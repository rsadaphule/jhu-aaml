{
  "nbformat": 4,
  "nbformat_minor": 0,
  "metadata": {
    "colab": {
      "provenance": [],
      "machine_shape": "hm",
      "gpuType": "A100",
      "authorship_tag": "ABX9TyNM1GqSb8iIoAOYu8ebflxb",
      "include_colab_link": true
    },
    "kernelspec": {
      "name": "python3",
      "display_name": "Python 3"
    },
    "language_info": {
      "name": "python"
    },
    "accelerator": "GPU"
  },
  "cells": [
    {
      "cell_type": "markdown",
      "metadata": {
        "id": "view-in-github",
        "colab_type": "text"
      },
      "source": [
        "<a href=\"https://colab.research.google.com/github/rsadaphule/jhu-aaml/blob/main/Module_10_Word_Embeddings.ipynb\" target=\"_parent\"><img src=\"https://colab.research.google.com/assets/colab-badge.svg\" alt=\"Open In Colab\"/></a>"
      ]
    },
    {
      "cell_type": "markdown",
      "source": [
        "Let us process the IMDB movie reviews for sentiment analysis to improve our understanding of\n",
        "word embeddings and their relation to a context.\n",
        "1. [20 pts] In this assignment, we will approach the problem with Word2Vec and contextual\n",
        "analysis of keywords towards sentiment/category processing in our pipeline.\n",
        "Generate a gensim model of the movie reviews. Use any parameters you like while\n",
        "answering the questions (2.) and (3.) below.\n",
        "Report the size of the vocabulary and characteristics of the gensim model, such as the\n",
        "number of mapping dimensions, etc."
      ],
      "metadata": {
        "id": "4h5uZUYyQTxT"
      }
    },
    {
      "cell_type": "code",
      "source": [
        "!pip install gensim"
      ],
      "metadata": {
        "colab": {
          "base_uri": "https://localhost:8080/"
        },
        "id": "tELS8AKMQX0x",
        "outputId": "0e3d1f8a-da4e-4b57-c683-2ac3bd152ff6"
      },
      "execution_count": 1,
      "outputs": [
        {
          "output_type": "stream",
          "name": "stdout",
          "text": [
            "Requirement already satisfied: gensim in /usr/local/lib/python3.10/dist-packages (4.3.2)\n",
            "Requirement already satisfied: numpy>=1.18.5 in /usr/local/lib/python3.10/dist-packages (from gensim) (1.23.5)\n",
            "Requirement already satisfied: scipy>=1.7.0 in /usr/local/lib/python3.10/dist-packages (from gensim) (1.11.3)\n",
            "Requirement already satisfied: smart-open>=1.8.1 in /usr/local/lib/python3.10/dist-packages (from gensim) (6.4.0)\n"
          ]
        }
      ]
    },
    {
      "cell_type": "code",
      "source": [
        "from google.colab import drive; drive.mount('/content/drive')"
      ],
      "metadata": {
        "colab": {
          "base_uri": "https://localhost:8080/"
        },
        "id": "lj9AGaTbR_dk",
        "outputId": "ba23a6a9-fe3d-4d18-8a14-1ca7b19b14fb"
      },
      "execution_count": 2,
      "outputs": [
        {
          "output_type": "stream",
          "name": "stdout",
          "text": [
            "Drive already mounted at /content/drive; to attempt to forcibly remount, call drive.mount(\"/content/drive\", force_remount=True).\n"
          ]
        }
      ]
    },
    {
      "cell_type": "code",
      "source": [
        "import gensim\n",
        "from gensim.models import Word2Vec\n",
        "import nltk\n",
        "from nltk.corpus import stopwords\n",
        "import string\n",
        "import os\n",
        "from sklearn.model_selection import train_test_split\n",
        "import logging\n",
        "import pandas as pd"
      ],
      "metadata": {
        "id": "xhYm8PiGQX-4"
      },
      "execution_count": 3,
      "outputs": []
    },
    {
      "cell_type": "code",
      "source": [
        "PATH_DATA = '/content/drive/My Drive/JHU/AAML/Assignments/data/imdb/'\n",
        "FILE_NAME = \"movie_data.csv\""
      ],
      "metadata": {
        "id": "4ZhehweZSIiP"
      },
      "execution_count": 4,
      "outputs": []
    },
    {
      "cell_type": "code",
      "source": [
        "# Download NLTK stopwords\n",
        "nltk.download('stopwords')\n",
        "nltk.download('punkt')"
      ],
      "metadata": {
        "colab": {
          "base_uri": "https://localhost:8080/"
        },
        "id": "Z3Rj9fGLRKvn",
        "outputId": "55e0a7fd-78e4-48f9-c237-2600f41817ad"
      },
      "execution_count": 5,
      "outputs": [
        {
          "output_type": "stream",
          "name": "stderr",
          "text": [
            "[nltk_data] Downloading package stopwords to /root/nltk_data...\n",
            "[nltk_data]   Package stopwords is already up-to-date!\n",
            "[nltk_data] Downloading package punkt to /root/nltk_data...\n",
            "[nltk_data]   Package punkt is already up-to-date!\n"
          ]
        },
        {
          "output_type": "execute_result",
          "data": {
            "text/plain": [
              "True"
            ]
          },
          "metadata": {},
          "execution_count": 5
        }
      ]
    },
    {
      "cell_type": "code",
      "source": [
        "# Enable logging for gensim (optional)\n",
        "logging.basicConfig(format='%(asctime)s : %(levelname)s : %(message)s', level=logging.INFO)\n",
        "\n"
      ],
      "metadata": {
        "id": "eKIdP4vpRKyU"
      },
      "execution_count": 6,
      "outputs": []
    },
    {
      "cell_type": "code",
      "source": [
        "# Function to preprocess text\n",
        "def preprocess_text(text):\n",
        "    # Convert to lower case\n",
        "    text = text.lower()\n",
        "    # Tokenize\n",
        "    tokens = nltk.word_tokenize(text)\n",
        "    # Remove punctuation\n",
        "    table = str.maketrans('', '', string.punctuation)\n",
        "    stripped = [w.translate(table) for w in tokens]\n",
        "    # Remove non-alphabetic tokens\n",
        "    words = [word for word in stripped if word.isalpha()]\n",
        "    # Filter out stop words\n",
        "    stop_words = set(stopwords.words('english'))\n",
        "    words = [w for w in words if not w in stop_words]\n",
        "    return words"
      ],
      "metadata": {
        "id": "eG_UsuARRK1d"
      },
      "execution_count": 7,
      "outputs": []
    },
    {
      "cell_type": "code",
      "source": [
        "# Load and preprocess the dataset\n",
        "# Read the CSV file\n",
        "df = pd.read_csv(PATH_DATA + FILE_NAME)\n",
        "df.head()"
      ],
      "metadata": {
        "colab": {
          "base_uri": "https://localhost:8080/",
          "height": 206
        },
        "id": "SRef75R_RU4k",
        "outputId": "3b9d34d4-f6f8-4863-afd7-a10b2ff4f743"
      },
      "execution_count": 8,
      "outputs": [
        {
          "output_type": "execute_result",
          "data": {
            "text/plain": [
              "                                              review  sentiment\n",
              "0  In 1974, the teenager Martha Moxley (Maggie Gr...          1\n",
              "1  OK... so... I really like Kris Kristofferson a...          0\n",
              "2  ***SPOILER*** Do not read this, if you think a...          0\n",
              "3  hi for all the people who have seen this wonde...          1\n",
              "4  I recently bought the DVD, forgetting just how...          0"
            ],
            "text/html": [
              "\n",
              "  <div id=\"df-65723719-4603-4172-8bba-4a2e6baaae73\" class=\"colab-df-container\">\n",
              "    <div>\n",
              "<style scoped>\n",
              "    .dataframe tbody tr th:only-of-type {\n",
              "        vertical-align: middle;\n",
              "    }\n",
              "\n",
              "    .dataframe tbody tr th {\n",
              "        vertical-align: top;\n",
              "    }\n",
              "\n",
              "    .dataframe thead th {\n",
              "        text-align: right;\n",
              "    }\n",
              "</style>\n",
              "<table border=\"1\" class=\"dataframe\">\n",
              "  <thead>\n",
              "    <tr style=\"text-align: right;\">\n",
              "      <th></th>\n",
              "      <th>review</th>\n",
              "      <th>sentiment</th>\n",
              "    </tr>\n",
              "  </thead>\n",
              "  <tbody>\n",
              "    <tr>\n",
              "      <th>0</th>\n",
              "      <td>In 1974, the teenager Martha Moxley (Maggie Gr...</td>\n",
              "      <td>1</td>\n",
              "    </tr>\n",
              "    <tr>\n",
              "      <th>1</th>\n",
              "      <td>OK... so... I really like Kris Kristofferson a...</td>\n",
              "      <td>0</td>\n",
              "    </tr>\n",
              "    <tr>\n",
              "      <th>2</th>\n",
              "      <td>***SPOILER*** Do not read this, if you think a...</td>\n",
              "      <td>0</td>\n",
              "    </tr>\n",
              "    <tr>\n",
              "      <th>3</th>\n",
              "      <td>hi for all the people who have seen this wonde...</td>\n",
              "      <td>1</td>\n",
              "    </tr>\n",
              "    <tr>\n",
              "      <th>4</th>\n",
              "      <td>I recently bought the DVD, forgetting just how...</td>\n",
              "      <td>0</td>\n",
              "    </tr>\n",
              "  </tbody>\n",
              "</table>\n",
              "</div>\n",
              "    <div class=\"colab-df-buttons\">\n",
              "\n",
              "  <div class=\"colab-df-container\">\n",
              "    <button class=\"colab-df-convert\" onclick=\"convertToInteractive('df-65723719-4603-4172-8bba-4a2e6baaae73')\"\n",
              "            title=\"Convert this dataframe to an interactive table.\"\n",
              "            style=\"display:none;\">\n",
              "\n",
              "  <svg xmlns=\"http://www.w3.org/2000/svg\" height=\"24px\" viewBox=\"0 -960 960 960\">\n",
              "    <path d=\"M120-120v-720h720v720H120Zm60-500h600v-160H180v160Zm220 220h160v-160H400v160Zm0 220h160v-160H400v160ZM180-400h160v-160H180v160Zm440 0h160v-160H620v160ZM180-180h160v-160H180v160Zm440 0h160v-160H620v160Z\"/>\n",
              "  </svg>\n",
              "    </button>\n",
              "\n",
              "  <style>\n",
              "    .colab-df-container {\n",
              "      display:flex;\n",
              "      gap: 12px;\n",
              "    }\n",
              "\n",
              "    .colab-df-convert {\n",
              "      background-color: #E8F0FE;\n",
              "      border: none;\n",
              "      border-radius: 50%;\n",
              "      cursor: pointer;\n",
              "      display: none;\n",
              "      fill: #1967D2;\n",
              "      height: 32px;\n",
              "      padding: 0 0 0 0;\n",
              "      width: 32px;\n",
              "    }\n",
              "\n",
              "    .colab-df-convert:hover {\n",
              "      background-color: #E2EBFA;\n",
              "      box-shadow: 0px 1px 2px rgba(60, 64, 67, 0.3), 0px 1px 3px 1px rgba(60, 64, 67, 0.15);\n",
              "      fill: #174EA6;\n",
              "    }\n",
              "\n",
              "    .colab-df-buttons div {\n",
              "      margin-bottom: 4px;\n",
              "    }\n",
              "\n",
              "    [theme=dark] .colab-df-convert {\n",
              "      background-color: #3B4455;\n",
              "      fill: #D2E3FC;\n",
              "    }\n",
              "\n",
              "    [theme=dark] .colab-df-convert:hover {\n",
              "      background-color: #434B5C;\n",
              "      box-shadow: 0px 1px 3px 1px rgba(0, 0, 0, 0.15);\n",
              "      filter: drop-shadow(0px 1px 2px rgba(0, 0, 0, 0.3));\n",
              "      fill: #FFFFFF;\n",
              "    }\n",
              "  </style>\n",
              "\n",
              "    <script>\n",
              "      const buttonEl =\n",
              "        document.querySelector('#df-65723719-4603-4172-8bba-4a2e6baaae73 button.colab-df-convert');\n",
              "      buttonEl.style.display =\n",
              "        google.colab.kernel.accessAllowed ? 'block' : 'none';\n",
              "\n",
              "      async function convertToInteractive(key) {\n",
              "        const element = document.querySelector('#df-65723719-4603-4172-8bba-4a2e6baaae73');\n",
              "        const dataTable =\n",
              "          await google.colab.kernel.invokeFunction('convertToInteractive',\n",
              "                                                    [key], {});\n",
              "        if (!dataTable) return;\n",
              "\n",
              "        const docLinkHtml = 'Like what you see? Visit the ' +\n",
              "          '<a target=\"_blank\" href=https://colab.research.google.com/notebooks/data_table.ipynb>data table notebook</a>'\n",
              "          + ' to learn more about interactive tables.';\n",
              "        element.innerHTML = '';\n",
              "        dataTable['output_type'] = 'display_data';\n",
              "        await google.colab.output.renderOutput(dataTable, element);\n",
              "        const docLink = document.createElement('div');\n",
              "        docLink.innerHTML = docLinkHtml;\n",
              "        element.appendChild(docLink);\n",
              "      }\n",
              "    </script>\n",
              "  </div>\n",
              "\n",
              "\n",
              "<div id=\"df-3b1f3968-d45d-4193-a8e8-bf2655221f79\">\n",
              "  <button class=\"colab-df-quickchart\" onclick=\"quickchart('df-3b1f3968-d45d-4193-a8e8-bf2655221f79')\"\n",
              "            title=\"Suggest charts.\"\n",
              "            style=\"display:none;\">\n",
              "\n",
              "<svg xmlns=\"http://www.w3.org/2000/svg\" height=\"24px\"viewBox=\"0 0 24 24\"\n",
              "     width=\"24px\">\n",
              "    <g>\n",
              "        <path d=\"M19 3H5c-1.1 0-2 .9-2 2v14c0 1.1.9 2 2 2h14c1.1 0 2-.9 2-2V5c0-1.1-.9-2-2-2zM9 17H7v-7h2v7zm4 0h-2V7h2v10zm4 0h-2v-4h2v4z\"/>\n",
              "    </g>\n",
              "</svg>\n",
              "  </button>\n",
              "\n",
              "<style>\n",
              "  .colab-df-quickchart {\n",
              "      --bg-color: #E8F0FE;\n",
              "      --fill-color: #1967D2;\n",
              "      --hover-bg-color: #E2EBFA;\n",
              "      --hover-fill-color: #174EA6;\n",
              "      --disabled-fill-color: #AAA;\n",
              "      --disabled-bg-color: #DDD;\n",
              "  }\n",
              "\n",
              "  [theme=dark] .colab-df-quickchart {\n",
              "      --bg-color: #3B4455;\n",
              "      --fill-color: #D2E3FC;\n",
              "      --hover-bg-color: #434B5C;\n",
              "      --hover-fill-color: #FFFFFF;\n",
              "      --disabled-bg-color: #3B4455;\n",
              "      --disabled-fill-color: #666;\n",
              "  }\n",
              "\n",
              "  .colab-df-quickchart {\n",
              "    background-color: var(--bg-color);\n",
              "    border: none;\n",
              "    border-radius: 50%;\n",
              "    cursor: pointer;\n",
              "    display: none;\n",
              "    fill: var(--fill-color);\n",
              "    height: 32px;\n",
              "    padding: 0;\n",
              "    width: 32px;\n",
              "  }\n",
              "\n",
              "  .colab-df-quickchart:hover {\n",
              "    background-color: var(--hover-bg-color);\n",
              "    box-shadow: 0 1px 2px rgba(60, 64, 67, 0.3), 0 1px 3px 1px rgba(60, 64, 67, 0.15);\n",
              "    fill: var(--button-hover-fill-color);\n",
              "  }\n",
              "\n",
              "  .colab-df-quickchart-complete:disabled,\n",
              "  .colab-df-quickchart-complete:disabled:hover {\n",
              "    background-color: var(--disabled-bg-color);\n",
              "    fill: var(--disabled-fill-color);\n",
              "    box-shadow: none;\n",
              "  }\n",
              "\n",
              "  .colab-df-spinner {\n",
              "    border: 2px solid var(--fill-color);\n",
              "    border-color: transparent;\n",
              "    border-bottom-color: var(--fill-color);\n",
              "    animation:\n",
              "      spin 1s steps(1) infinite;\n",
              "  }\n",
              "\n",
              "  @keyframes spin {\n",
              "    0% {\n",
              "      border-color: transparent;\n",
              "      border-bottom-color: var(--fill-color);\n",
              "      border-left-color: var(--fill-color);\n",
              "    }\n",
              "    20% {\n",
              "      border-color: transparent;\n",
              "      border-left-color: var(--fill-color);\n",
              "      border-top-color: var(--fill-color);\n",
              "    }\n",
              "    30% {\n",
              "      border-color: transparent;\n",
              "      border-left-color: var(--fill-color);\n",
              "      border-top-color: var(--fill-color);\n",
              "      border-right-color: var(--fill-color);\n",
              "    }\n",
              "    40% {\n",
              "      border-color: transparent;\n",
              "      border-right-color: var(--fill-color);\n",
              "      border-top-color: var(--fill-color);\n",
              "    }\n",
              "    60% {\n",
              "      border-color: transparent;\n",
              "      border-right-color: var(--fill-color);\n",
              "    }\n",
              "    80% {\n",
              "      border-color: transparent;\n",
              "      border-right-color: var(--fill-color);\n",
              "      border-bottom-color: var(--fill-color);\n",
              "    }\n",
              "    90% {\n",
              "      border-color: transparent;\n",
              "      border-bottom-color: var(--fill-color);\n",
              "    }\n",
              "  }\n",
              "</style>\n",
              "\n",
              "  <script>\n",
              "    async function quickchart(key) {\n",
              "      const quickchartButtonEl =\n",
              "        document.querySelector('#' + key + ' button');\n",
              "      quickchartButtonEl.disabled = true;  // To prevent multiple clicks.\n",
              "      quickchartButtonEl.classList.add('colab-df-spinner');\n",
              "      try {\n",
              "        const charts = await google.colab.kernel.invokeFunction(\n",
              "            'suggestCharts', [key], {});\n",
              "      } catch (error) {\n",
              "        console.error('Error during call to suggestCharts:', error);\n",
              "      }\n",
              "      quickchartButtonEl.classList.remove('colab-df-spinner');\n",
              "      quickchartButtonEl.classList.add('colab-df-quickchart-complete');\n",
              "    }\n",
              "    (() => {\n",
              "      let quickchartButtonEl =\n",
              "        document.querySelector('#df-3b1f3968-d45d-4193-a8e8-bf2655221f79 button');\n",
              "      quickchartButtonEl.style.display =\n",
              "        google.colab.kernel.accessAllowed ? 'block' : 'none';\n",
              "    })();\n",
              "  </script>\n",
              "</div>\n",
              "\n",
              "    </div>\n",
              "  </div>\n"
            ]
          },
          "metadata": {},
          "execution_count": 8
        }
      ]
    },
    {
      "cell_type": "code",
      "source": [
        "# Preprocess the reviews\n",
        "df['processed_reviews'] = df['review'].apply(preprocess_text)\n"
      ],
      "metadata": {
        "id": "k_PH2oqoRU6_"
      },
      "execution_count": 9,
      "outputs": []
    },
    {
      "cell_type": "code",
      "source": [
        "# List of processed reviews\n",
        "reviews = df['processed_reviews'].tolist()"
      ],
      "metadata": {
        "id": "SorX-jiDRU9j"
      },
      "execution_count": 10,
      "outputs": []
    },
    {
      "cell_type": "code",
      "source": [
        "\n",
        "# Train a Word2Vec model\n",
        "model = Word2Vec(sentences=reviews, vector_size=100, window=5, min_count=1, workers=4)"
      ],
      "metadata": {
        "id": "9vy4_AQURU_4"
      },
      "execution_count": 11,
      "outputs": []
    },
    {
      "cell_type": "code",
      "source": [
        "\n",
        "# Summarize the loaded model\n",
        "print(f\"Vocabulary size: {len(model.wv.index_to_key)}\")"
      ],
      "metadata": {
        "colab": {
          "base_uri": "https://localhost:8080/"
        },
        "id": "yXjjmhunRVCv",
        "outputId": "8aa9c229-9fff-45d5-d086-f3eb23826ec1"
      },
      "execution_count": 12,
      "outputs": [
        {
          "output_type": "stream",
          "name": "stdout",
          "text": [
            "Vocabulary size: 133264\n"
          ]
        }
      ]
    },
    {
      "cell_type": "code",
      "source": [],
      "metadata": {
        "id": "xOT3PzHjUfkJ"
      },
      "execution_count": 12,
      "outputs": []
    },
    {
      "cell_type": "code",
      "source": [
        "\n",
        "# Save model\n",
        "model.save('imdb_word2vec.model')\n"
      ],
      "metadata": {
        "id": "utGQC09nUfsJ"
      },
      "execution_count": 13,
      "outputs": []
    },
    {
      "cell_type": "code",
      "source": [
        "\n",
        "# Load model\n",
        "new_model = Word2Vec.load('imdb_word2vec.model')"
      ],
      "metadata": {
        "id": "51301fobUjfY"
      },
      "execution_count": 14,
      "outputs": []
    },
    {
      "cell_type": "code",
      "source": [
        "\n",
        "# Characteristics of the model\n",
        "print(f\"Number of dimensions: {new_model.vector_size}\")"
      ],
      "metadata": {
        "colab": {
          "base_uri": "https://localhost:8080/"
        },
        "id": "tr_ML2xfUjiW",
        "outputId": "880bc812-42aa-4679-8d80-00984e688c56"
      },
      "execution_count": 15,
      "outputs": [
        {
          "output_type": "stream",
          "name": "stdout",
          "text": [
            "Number of dimensions: 100\n"
          ]
        }
      ]
    },
    {
      "cell_type": "markdown",
      "source": [
        "[20 pts] Generate the contexts for the following keywords:\n",
        "(a.) melancholy\n",
        "(b.) ghastly\n",
        "(c.) lackluster\n",
        "(d.) romantic"
      ],
      "metadata": {
        "id": "pjiW_brYQYah"
      }
    },
    {
      "cell_type": "code",
      "source": [
        "keywords = ['melancholy', 'ghastly', 'lackluster', 'romantic']\n",
        "\n",
        "# Generate contexts for the keywords\n",
        "for keyword in keywords:\n",
        "    if keyword in model.wv:\n",
        "        print(f\"Contexts for '{keyword}':\")\n",
        "        for similar_word, similarity in model.wv.most_similar(keyword):\n",
        "            print(f\"  {similar_word} (similarity: {similarity})\")\n",
        "    else:\n",
        "        print(f\"The word '{keyword}' is not in the vocabulary.\")"
      ],
      "metadata": {
        "colab": {
          "base_uri": "https://localhost:8080/"
        },
        "id": "uONBc7c9QcUu",
        "outputId": "c0be6535-92f4-4796-bfc0-256f12da1150"
      },
      "execution_count": 16,
      "outputs": [
        {
          "output_type": "stream",
          "name": "stdout",
          "text": [
            "Contexts for 'melancholy':\n",
            "  elegance (similarity: 0.871760368347168)\n",
            "  powerfully (similarity: 0.8616267442703247)\n",
            "  wistful (similarity: 0.8480486869812012)\n",
            "  sensual (similarity: 0.8480376601219177)\n",
            "  somber (similarity: 0.8396613597869873)\n",
            "  spontaneous (similarity: 0.8367413282394409)\n",
            "  exuberant (similarity: 0.8334642052650452)\n",
            "  stirring (similarity: 0.8323051929473877)\n",
            "  poignancy (similarity: 0.8301796913146973)\n",
            "  dreamy (similarity: 0.8296907544136047)\n",
            "Contexts for 'ghastly':\n",
            "  transparent (similarity: 0.8081660866737366)\n",
            "  unscary (similarity: 0.8004619479179382)\n",
            "  infantile (similarity: 0.7996281981468201)\n",
            "  galore (similarity: 0.7932235598564148)\n",
            "  abominable (similarity: 0.7905946969985962)\n",
            "  unimpressive (similarity: 0.7865118980407715)\n",
            "  grotesquely (similarity: 0.7862119078636169)\n",
            "  soapopera (similarity: 0.7853855490684509)\n",
            "  hohum (similarity: 0.7826284170150757)\n",
            "  lumpy (similarity: 0.782532274723053)\n",
            "Contexts for 'lackluster':\n",
            "  uninspired (similarity: 0.8629769682884216)\n",
            "  subpar (similarity: 0.851310670375824)\n",
            "  lethargic (similarity: 0.843191921710968)\n",
            "  pedestrian (similarity: 0.8398829698562622)\n",
            "  uneven (similarity: 0.8392202258110046)\n",
            "  leaden (similarity: 0.8348366022109985)\n",
            "  uninspiring (similarity: 0.8342732787132263)\n",
            "  stilted (similarity: 0.8330857157707214)\n",
            "  abysmal (similarity: 0.8258460164070129)\n",
            "  dismal (similarity: 0.8200268745422363)\n",
            "Contexts for 'romantic':\n",
            "  romance (similarity: 0.836893618106842)\n",
            "  screwball (similarity: 0.6835989356040955)\n",
            "  touching (similarity: 0.6399620175361633)\n",
            "  comingofage (similarity: 0.6369736194610596)\n",
            "  sentimental (similarity: 0.6309642195701599)\n",
            "  lighthearted (similarity: 0.6226580142974854)\n",
            "  tender (similarity: 0.6209285855293274)\n",
            "  poignant (similarity: 0.6207395195960999)\n",
            "  feelgood (similarity: 0.6173213720321655)\n",
            "  heartwarming (similarity: 0.614014208316803)\n"
          ]
        }
      ]
    },
    {
      "cell_type": "markdown",
      "source": [],
      "metadata": {
        "id": "90VdUkuwQco5"
      }
    },
    {
      "cell_type": "markdown",
      "source": [
        "[20 pts] Comment about similarities and differences in (3.). Any comments on why romantic\n",
        "context was not affected?"
      ],
      "metadata": {
        "id": "O1wBhSlnQcsD"
      }
    },
    {
      "cell_type": "code",
      "source": [],
      "metadata": {
        "id": "nZo3DxW-aVF9"
      },
      "execution_count": 16,
      "outputs": []
    },
    {
      "cell_type": "markdown",
      "source": [
        "Ans -\n",
        "In a Word2Vec model, the context of a word is determined by its neighboring words in the training corpus. The model generates word embeddings by predicting a word based on its context (Continuous Bag of Words model) or predicting context words given a word (Skip-gram model). The resulting vectors capture semantic meanings and relationships between words.\n",
        "\n",
        "For \"melancholy,\" although the real meaning is \"sadness\", in this case, the model associates words that evoke a sense of beauty, emotion, and calmness, such as \"powerfully,\" \"wistful,\" and \"serene.\" This suggests that in the corpus, \"melancholy\" may often be used in a context that appreciates the depth of emotion, possibly in a positive light, rather than solely focusing on sadness.\n",
        "\n",
        "The context for \"ghastly\" includes words like \"unscary,\" \"abominable,\" and \"hideous,\" which are indicative of negative sentiment and align with the word's meaning of something being shockingly frightful or dreadful. Interestingly, some words like \"unscary\" might suggest a negation of fear, possibly used in reviews where a horror movie failed to deliver the intended scare.\n",
        "\n",
        "\"Lackluster\" is associated with words that convey a sense of mediocrity or dullness, such as \"uninspired,\" \"pedestrian,\" and \"underwhelming.\" These are straightforward and align well with the sentiment that a movie or performance was not particularly engaging or impressive.\n",
        "\n",
        "For \"romantic,\" the model finds words that are directly related to romance and positive emotional experiences, like \"romance,\" \"tender,\" and \"heartwarming.\" These words are typically used to describe movies or scenes that successfully evoke the warmth and affection associated with romantic content.\n",
        "\n",
        "The fact that \"romantic\" is not affected in a negative way and maintains a positive context could be due to the generally positive inclination of romance in movie reviews. Romance as a genre tends to be associated with positive emotions and experiences, and this is reflected in the word associations provided by the model.\n"
      ],
      "metadata": {
        "id": "vvyDjBg6Zbe5"
      }
    },
    {
      "cell_type": "markdown",
      "source": [
        "[20 pts] Read the following paper:\n",
        "Maas, Andrew L., et al. \"Learning word vectors f or sentiment analysis.\" Proceedings of\n",
        "the 49th annual meeting of the association f or computational linguistics: Human\n",
        "language technologies -volume 1. Association f or Computational Linguistics, 2011 .\n",
        "Comment about and/or align your results in this assignment.\n"
      ],
      "metadata": {
        "id": "MXlTHHD2QhJF"
      }
    },
    {
      "cell_type": "markdown",
      "source": [
        "Ans - The paper \"Learning Word Vectors for Sentiment Analysis\" by Maas et al., presented at the 49th Annual Meeting of the Association for Computational Linguistics in 2011, disctalsks about the application of word vector representations in sentiment analysis tasks. The authors talk about a model that learns word vectors from an large unlabeled dataset using an unsupervised learning algorithm. These vectors are then used as features in a sentiment classification task.\n",
        "\n",
        "The paper's findings are important because they demonstrate that word vectors capture fine-grained semantic and syntactic regularities using vector arithmetic, which is particularly useful for sentiment analysis. The model presented by Maas et al. is trained on a dataset containing 25,000 IMDB movie reviews, aiming to predict the sentiment of the reviews.\n",
        "\n",
        "In the context of this assignment, the approach aligns with the task of generating a gensim Word2Vec model for sentiment analysis. The model trained on movie reviews could potentially capture similar semantic regularities as those discussed in the paper. The keywords \"melancholy,\" \"ghastly,\" \"lackluster,\" and \"romantic\" would have their vectors influenced by the contexts they appear in within the movie reviews, and these vectors could be used to infer sentiment.\n",
        "\n",
        "If the \"romantic\" context was not affected in a hypothetical analysis, it could be due to the strong and consistent representation of romantic contexts in the training data, which aligns with the paper's findings that well-represented concepts tend to have stable word vector representations.\n"
      ],
      "metadata": {
        "id": "viYFjDm2a2sQ"
      }
    },
    {
      "cell_type": "code",
      "source": [],
      "metadata": {
        "id": "rgELG1VHbJGz"
      },
      "execution_count": 16,
      "outputs": []
    }
  ]
}