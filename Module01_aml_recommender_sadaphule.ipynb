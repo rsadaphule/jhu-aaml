{
  "nbformat": 4,
  "nbformat_minor": 0,
  "metadata": {
    "colab": {
      "provenance": [],
      "machine_shape": "hm",
      "gpuType": "A100",
      "include_colab_link": true
    },
    "kernelspec": {
      "name": "python3",
      "display_name": "Python 3"
    },
    "language_info": {
      "name": "python"
    },
    "accelerator": "GPU"
  },
  "cells": [
    {
      "cell_type": "markdown",
      "metadata": {
        "id": "view-in-github",
        "colab_type": "text"
      },
      "source": [
        "<a href=\"https://colab.research.google.com/github/rsadaphule/jhu-aaml/blob/main/Module01_aml_recommender_sadaphule.ipynb\" target=\"_parent\"><img src=\"https://colab.research.google.com/assets/colab-badge.svg\" alt=\"Open In Colab\"/></a>"
      ]
    },
    {
      "cell_type": "markdown",
      "source": [
        "## Recommender Systems"
      ],
      "metadata": {
        "id": "SX4DM64dbxWo"
      }
    },
    {
      "cell_type": "code",
      "source": [
        "from google.colab import drive; drive.mount('/content/drive')"
      ],
      "metadata": {
        "colab": {
          "base_uri": "https://localhost:8080/"
        },
        "id": "aGKVnWyQbzCU",
        "outputId": "c2569cbf-5bd6-4f2c-c79c-5322b4583503"
      },
      "execution_count": 92,
      "outputs": [
        {
          "output_type": "stream",
          "name": "stdout",
          "text": [
            "Drive already mounted at /content/drive; to attempt to forcibly remount, call drive.mount(\"/content/drive\", force_remount=True).\n"
          ]
        }
      ]
    },
    {
      "cell_type": "code",
      "source": [
        "TRAIN_FILE_FOLDER = '/content/drive/My Drive/JHU/Advanced Applied ML/Assignments/data/movielens/'"
      ],
      "metadata": {
        "id": "UK0CLOtfcCf8"
      },
      "execution_count": 93,
      "outputs": []
    },
    {
      "cell_type": "code",
      "source": [
        "%matplotlib inline\n",
        "import matplotlib.pyplot as plt\n",
        "plt.rcParams[\"figure.dpi\"] = 72\n",
        "import numpy as np\n",
        "import pandas as pd\n",
        "import re\n",
        "from collections import defaultdict"
      ],
      "metadata": {
        "id": "vBLZUOoQcZBx"
      },
      "execution_count": 94,
      "outputs": []
    },
    {
      "cell_type": "code",
      "source": [
        "# A subset of the dataset to shorten the pipeline processing\n",
        "USERS_N = 1000"
      ],
      "metadata": {
        "id": "0eN9BnR4chXc"
      },
      "execution_count": 95,
      "outputs": []
    },
    {
      "cell_type": "code",
      "source": [
        "# read datasets\n",
        "df_movies = pd.read_csv(TRAIN_FILE_FOLDER + 'movielens_movie.csv')\n",
        "df_ratings = pd.read_csv(TRAIN_FILE_FOLDER + 'movielens_rating.csv')\n",
        "df_tag = pd.read_csv(TRAIN_FILE_FOLDER + 'movielens_tag.csv')\n",
        "\n",
        "df_genome_tags = pd.read_csv(TRAIN_FILE_FOLDER + 'movielens_genome_tags.csv')\n",
        "df_genome_scores = pd.read_csv(TRAIN_FILE_FOLDER + 'movielens_genome_scores.csv')"
      ],
      "metadata": {
        "id": "SABOeETlcjy5"
      },
      "execution_count": 96,
      "outputs": []
    },
    {
      "cell_type": "code",
      "source": [
        "df_movies.head()"
      ],
      "metadata": {
        "colab": {
          "base_uri": "https://localhost:8080/",
          "height": 206
        },
        "id": "ExSt-nWzc82y",
        "outputId": "478afa20-bb1b-4b0a-eb2d-2b56a711dda6"
      },
      "execution_count": 97,
      "outputs": [
        {
          "output_type": "execute_result",
          "data": {
            "text/plain": [
              "   movieId                               title  \\\n",
              "0        1                    Toy Story (1995)   \n",
              "1        2                      Jumanji (1995)   \n",
              "2        3             Grumpier Old Men (1995)   \n",
              "3        4            Waiting to Exhale (1995)   \n",
              "4        5  Father of the Bride Part II (1995)   \n",
              "\n",
              "                                        genres  \n",
              "0  Adventure|Animation|Children|Comedy|Fantasy  \n",
              "1                   Adventure|Children|Fantasy  \n",
              "2                               Comedy|Romance  \n",
              "3                         Comedy|Drama|Romance  \n",
              "4                                       Comedy  "
            ],
            "text/html": [
              "\n",
              "  <div id=\"df-32ac5b1f-8bda-4dd2-a12a-e4a99d0da3a9\" class=\"colab-df-container\">\n",
              "    <div>\n",
              "<style scoped>\n",
              "    .dataframe tbody tr th:only-of-type {\n",
              "        vertical-align: middle;\n",
              "    }\n",
              "\n",
              "    .dataframe tbody tr th {\n",
              "        vertical-align: top;\n",
              "    }\n",
              "\n",
              "    .dataframe thead th {\n",
              "        text-align: right;\n",
              "    }\n",
              "</style>\n",
              "<table border=\"1\" class=\"dataframe\">\n",
              "  <thead>\n",
              "    <tr style=\"text-align: right;\">\n",
              "      <th></th>\n",
              "      <th>movieId</th>\n",
              "      <th>title</th>\n",
              "      <th>genres</th>\n",
              "    </tr>\n",
              "  </thead>\n",
              "  <tbody>\n",
              "    <tr>\n",
              "      <th>0</th>\n",
              "      <td>1</td>\n",
              "      <td>Toy Story (1995)</td>\n",
              "      <td>Adventure|Animation|Children|Comedy|Fantasy</td>\n",
              "    </tr>\n",
              "    <tr>\n",
              "      <th>1</th>\n",
              "      <td>2</td>\n",
              "      <td>Jumanji (1995)</td>\n",
              "      <td>Adventure|Children|Fantasy</td>\n",
              "    </tr>\n",
              "    <tr>\n",
              "      <th>2</th>\n",
              "      <td>3</td>\n",
              "      <td>Grumpier Old Men (1995)</td>\n",
              "      <td>Comedy|Romance</td>\n",
              "    </tr>\n",
              "    <tr>\n",
              "      <th>3</th>\n",
              "      <td>4</td>\n",
              "      <td>Waiting to Exhale (1995)</td>\n",
              "      <td>Comedy|Drama|Romance</td>\n",
              "    </tr>\n",
              "    <tr>\n",
              "      <th>4</th>\n",
              "      <td>5</td>\n",
              "      <td>Father of the Bride Part II (1995)</td>\n",
              "      <td>Comedy</td>\n",
              "    </tr>\n",
              "  </tbody>\n",
              "</table>\n",
              "</div>\n",
              "    <div class=\"colab-df-buttons\">\n",
              "\n",
              "  <div class=\"colab-df-container\">\n",
              "    <button class=\"colab-df-convert\" onclick=\"convertToInteractive('df-32ac5b1f-8bda-4dd2-a12a-e4a99d0da3a9')\"\n",
              "            title=\"Convert this dataframe to an interactive table.\"\n",
              "            style=\"display:none;\">\n",
              "\n",
              "  <svg xmlns=\"http://www.w3.org/2000/svg\" height=\"24px\" viewBox=\"0 -960 960 960\">\n",
              "    <path d=\"M120-120v-720h720v720H120Zm60-500h600v-160H180v160Zm220 220h160v-160H400v160Zm0 220h160v-160H400v160ZM180-400h160v-160H180v160Zm440 0h160v-160H620v160ZM180-180h160v-160H180v160Zm440 0h160v-160H620v160Z\"/>\n",
              "  </svg>\n",
              "    </button>\n",
              "\n",
              "  <style>\n",
              "    .colab-df-container {\n",
              "      display:flex;\n",
              "      gap: 12px;\n",
              "    }\n",
              "\n",
              "    .colab-df-convert {\n",
              "      background-color: #E8F0FE;\n",
              "      border: none;\n",
              "      border-radius: 50%;\n",
              "      cursor: pointer;\n",
              "      display: none;\n",
              "      fill: #1967D2;\n",
              "      height: 32px;\n",
              "      padding: 0 0 0 0;\n",
              "      width: 32px;\n",
              "    }\n",
              "\n",
              "    .colab-df-convert:hover {\n",
              "      background-color: #E2EBFA;\n",
              "      box-shadow: 0px 1px 2px rgba(60, 64, 67, 0.3), 0px 1px 3px 1px rgba(60, 64, 67, 0.15);\n",
              "      fill: #174EA6;\n",
              "    }\n",
              "\n",
              "    .colab-df-buttons div {\n",
              "      margin-bottom: 4px;\n",
              "    }\n",
              "\n",
              "    [theme=dark] .colab-df-convert {\n",
              "      background-color: #3B4455;\n",
              "      fill: #D2E3FC;\n",
              "    }\n",
              "\n",
              "    [theme=dark] .colab-df-convert:hover {\n",
              "      background-color: #434B5C;\n",
              "      box-shadow: 0px 1px 3px 1px rgba(0, 0, 0, 0.15);\n",
              "      filter: drop-shadow(0px 1px 2px rgba(0, 0, 0, 0.3));\n",
              "      fill: #FFFFFF;\n",
              "    }\n",
              "  </style>\n",
              "\n",
              "    <script>\n",
              "      const buttonEl =\n",
              "        document.querySelector('#df-32ac5b1f-8bda-4dd2-a12a-e4a99d0da3a9 button.colab-df-convert');\n",
              "      buttonEl.style.display =\n",
              "        google.colab.kernel.accessAllowed ? 'block' : 'none';\n",
              "\n",
              "      async function convertToInteractive(key) {\n",
              "        const element = document.querySelector('#df-32ac5b1f-8bda-4dd2-a12a-e4a99d0da3a9');\n",
              "        const dataTable =\n",
              "          await google.colab.kernel.invokeFunction('convertToInteractive',\n",
              "                                                    [key], {});\n",
              "        if (!dataTable) return;\n",
              "\n",
              "        const docLinkHtml = 'Like what you see? Visit the ' +\n",
              "          '<a target=\"_blank\" href=https://colab.research.google.com/notebooks/data_table.ipynb>data table notebook</a>'\n",
              "          + ' to learn more about interactive tables.';\n",
              "        element.innerHTML = '';\n",
              "        dataTable['output_type'] = 'display_data';\n",
              "        await google.colab.output.renderOutput(dataTable, element);\n",
              "        const docLink = document.createElement('div');\n",
              "        docLink.innerHTML = docLinkHtml;\n",
              "        element.appendChild(docLink);\n",
              "      }\n",
              "    </script>\n",
              "  </div>\n",
              "\n",
              "\n",
              "<div id=\"df-0f8cbab9-3711-4c31-8ce7-14ca787fe0bc\">\n",
              "  <button class=\"colab-df-quickchart\" onclick=\"quickchart('df-0f8cbab9-3711-4c31-8ce7-14ca787fe0bc')\"\n",
              "            title=\"Suggest charts.\"\n",
              "            style=\"display:none;\">\n",
              "\n",
              "<svg xmlns=\"http://www.w3.org/2000/svg\" height=\"24px\"viewBox=\"0 0 24 24\"\n",
              "     width=\"24px\">\n",
              "    <g>\n",
              "        <path d=\"M19 3H5c-1.1 0-2 .9-2 2v14c0 1.1.9 2 2 2h14c1.1 0 2-.9 2-2V5c0-1.1-.9-2-2-2zM9 17H7v-7h2v7zm4 0h-2V7h2v10zm4 0h-2v-4h2v4z\"/>\n",
              "    </g>\n",
              "</svg>\n",
              "  </button>\n",
              "\n",
              "<style>\n",
              "  .colab-df-quickchart {\n",
              "    background-color: #E8F0FE;\n",
              "    border: none;\n",
              "    border-radius: 50%;\n",
              "    cursor: pointer;\n",
              "    display: none;\n",
              "    fill: #1967D2;\n",
              "    height: 32px;\n",
              "    padding: 0 0 0 0;\n",
              "    width: 32px;\n",
              "  }\n",
              "\n",
              "  .colab-df-quickchart:hover {\n",
              "    background-color: #E2EBFA;\n",
              "    box-shadow: 0px 1px 2px rgba(60, 64, 67, 0.3), 0px 1px 3px 1px rgba(60, 64, 67, 0.15);\n",
              "    fill: #174EA6;\n",
              "  }\n",
              "\n",
              "  [theme=dark] .colab-df-quickchart {\n",
              "    background-color: #3B4455;\n",
              "    fill: #D2E3FC;\n",
              "  }\n",
              "\n",
              "  [theme=dark] .colab-df-quickchart:hover {\n",
              "    background-color: #434B5C;\n",
              "    box-shadow: 0px 1px 3px 1px rgba(0, 0, 0, 0.15);\n",
              "    filter: drop-shadow(0px 1px 2px rgba(0, 0, 0, 0.3));\n",
              "    fill: #FFFFFF;\n",
              "  }\n",
              "</style>\n",
              "\n",
              "  <script>\n",
              "    async function quickchart(key) {\n",
              "      const charts = await google.colab.kernel.invokeFunction(\n",
              "          'suggestCharts', [key], {});\n",
              "    }\n",
              "    (() => {\n",
              "      let quickchartButtonEl =\n",
              "        document.querySelector('#df-0f8cbab9-3711-4c31-8ce7-14ca787fe0bc button');\n",
              "      quickchartButtonEl.style.display =\n",
              "        google.colab.kernel.accessAllowed ? 'block' : 'none';\n",
              "    })();\n",
              "  </script>\n",
              "</div>\n",
              "\n",
              "    </div>\n",
              "  </div>\n"
            ]
          },
          "metadata": {},
          "execution_count": 97
        }
      ]
    },
    {
      "cell_type": "code",
      "source": [
        "df_ratings.head()"
      ],
      "metadata": {
        "colab": {
          "base_uri": "https://localhost:8080/",
          "height": 206
        },
        "id": "7NE7_aJadu3j",
        "outputId": "c5b1a5ab-7e68-43c5-dc99-d4430499bd50"
      },
      "execution_count": 98,
      "outputs": [
        {
          "output_type": "execute_result",
          "data": {
            "text/plain": [
              "   userId  movieId  rating            timestamp\n",
              "0       1        2     3.5  2005-04-02 23:53:47\n",
              "1       1       29     3.5  2005-04-02 23:31:16\n",
              "2       1       32     3.5  2005-04-02 23:33:39\n",
              "3       1       47     3.5  2005-04-02 23:32:07\n",
              "4       1       50     3.5  2005-04-02 23:29:40"
            ],
            "text/html": [
              "\n",
              "  <div id=\"df-a191ca13-7809-4c1b-96b5-f068f327141e\" class=\"colab-df-container\">\n",
              "    <div>\n",
              "<style scoped>\n",
              "    .dataframe tbody tr th:only-of-type {\n",
              "        vertical-align: middle;\n",
              "    }\n",
              "\n",
              "    .dataframe tbody tr th {\n",
              "        vertical-align: top;\n",
              "    }\n",
              "\n",
              "    .dataframe thead th {\n",
              "        text-align: right;\n",
              "    }\n",
              "</style>\n",
              "<table border=\"1\" class=\"dataframe\">\n",
              "  <thead>\n",
              "    <tr style=\"text-align: right;\">\n",
              "      <th></th>\n",
              "      <th>userId</th>\n",
              "      <th>movieId</th>\n",
              "      <th>rating</th>\n",
              "      <th>timestamp</th>\n",
              "    </tr>\n",
              "  </thead>\n",
              "  <tbody>\n",
              "    <tr>\n",
              "      <th>0</th>\n",
              "      <td>1</td>\n",
              "      <td>2</td>\n",
              "      <td>3.5</td>\n",
              "      <td>2005-04-02 23:53:47</td>\n",
              "    </tr>\n",
              "    <tr>\n",
              "      <th>1</th>\n",
              "      <td>1</td>\n",
              "      <td>29</td>\n",
              "      <td>3.5</td>\n",
              "      <td>2005-04-02 23:31:16</td>\n",
              "    </tr>\n",
              "    <tr>\n",
              "      <th>2</th>\n",
              "      <td>1</td>\n",
              "      <td>32</td>\n",
              "      <td>3.5</td>\n",
              "      <td>2005-04-02 23:33:39</td>\n",
              "    </tr>\n",
              "    <tr>\n",
              "      <th>3</th>\n",
              "      <td>1</td>\n",
              "      <td>47</td>\n",
              "      <td>3.5</td>\n",
              "      <td>2005-04-02 23:32:07</td>\n",
              "    </tr>\n",
              "    <tr>\n",
              "      <th>4</th>\n",
              "      <td>1</td>\n",
              "      <td>50</td>\n",
              "      <td>3.5</td>\n",
              "      <td>2005-04-02 23:29:40</td>\n",
              "    </tr>\n",
              "  </tbody>\n",
              "</table>\n",
              "</div>\n",
              "    <div class=\"colab-df-buttons\">\n",
              "\n",
              "  <div class=\"colab-df-container\">\n",
              "    <button class=\"colab-df-convert\" onclick=\"convertToInteractive('df-a191ca13-7809-4c1b-96b5-f068f327141e')\"\n",
              "            title=\"Convert this dataframe to an interactive table.\"\n",
              "            style=\"display:none;\">\n",
              "\n",
              "  <svg xmlns=\"http://www.w3.org/2000/svg\" height=\"24px\" viewBox=\"0 -960 960 960\">\n",
              "    <path d=\"M120-120v-720h720v720H120Zm60-500h600v-160H180v160Zm220 220h160v-160H400v160Zm0 220h160v-160H400v160ZM180-400h160v-160H180v160Zm440 0h160v-160H620v160ZM180-180h160v-160H180v160Zm440 0h160v-160H620v160Z\"/>\n",
              "  </svg>\n",
              "    </button>\n",
              "\n",
              "  <style>\n",
              "    .colab-df-container {\n",
              "      display:flex;\n",
              "      gap: 12px;\n",
              "    }\n",
              "\n",
              "    .colab-df-convert {\n",
              "      background-color: #E8F0FE;\n",
              "      border: none;\n",
              "      border-radius: 50%;\n",
              "      cursor: pointer;\n",
              "      display: none;\n",
              "      fill: #1967D2;\n",
              "      height: 32px;\n",
              "      padding: 0 0 0 0;\n",
              "      width: 32px;\n",
              "    }\n",
              "\n",
              "    .colab-df-convert:hover {\n",
              "      background-color: #E2EBFA;\n",
              "      box-shadow: 0px 1px 2px rgba(60, 64, 67, 0.3), 0px 1px 3px 1px rgba(60, 64, 67, 0.15);\n",
              "      fill: #174EA6;\n",
              "    }\n",
              "\n",
              "    .colab-df-buttons div {\n",
              "      margin-bottom: 4px;\n",
              "    }\n",
              "\n",
              "    [theme=dark] .colab-df-convert {\n",
              "      background-color: #3B4455;\n",
              "      fill: #D2E3FC;\n",
              "    }\n",
              "\n",
              "    [theme=dark] .colab-df-convert:hover {\n",
              "      background-color: #434B5C;\n",
              "      box-shadow: 0px 1px 3px 1px rgba(0, 0, 0, 0.15);\n",
              "      filter: drop-shadow(0px 1px 2px rgba(0, 0, 0, 0.3));\n",
              "      fill: #FFFFFF;\n",
              "    }\n",
              "  </style>\n",
              "\n",
              "    <script>\n",
              "      const buttonEl =\n",
              "        document.querySelector('#df-a191ca13-7809-4c1b-96b5-f068f327141e button.colab-df-convert');\n",
              "      buttonEl.style.display =\n",
              "        google.colab.kernel.accessAllowed ? 'block' : 'none';\n",
              "\n",
              "      async function convertToInteractive(key) {\n",
              "        const element = document.querySelector('#df-a191ca13-7809-4c1b-96b5-f068f327141e');\n",
              "        const dataTable =\n",
              "          await google.colab.kernel.invokeFunction('convertToInteractive',\n",
              "                                                    [key], {});\n",
              "        if (!dataTable) return;\n",
              "\n",
              "        const docLinkHtml = 'Like what you see? Visit the ' +\n",
              "          '<a target=\"_blank\" href=https://colab.research.google.com/notebooks/data_table.ipynb>data table notebook</a>'\n",
              "          + ' to learn more about interactive tables.';\n",
              "        element.innerHTML = '';\n",
              "        dataTable['output_type'] = 'display_data';\n",
              "        await google.colab.output.renderOutput(dataTable, element);\n",
              "        const docLink = document.createElement('div');\n",
              "        docLink.innerHTML = docLinkHtml;\n",
              "        element.appendChild(docLink);\n",
              "      }\n",
              "    </script>\n",
              "  </div>\n",
              "\n",
              "\n",
              "<div id=\"df-629cfdf9-c38a-481a-baaf-cb09c70420da\">\n",
              "  <button class=\"colab-df-quickchart\" onclick=\"quickchart('df-629cfdf9-c38a-481a-baaf-cb09c70420da')\"\n",
              "            title=\"Suggest charts.\"\n",
              "            style=\"display:none;\">\n",
              "\n",
              "<svg xmlns=\"http://www.w3.org/2000/svg\" height=\"24px\"viewBox=\"0 0 24 24\"\n",
              "     width=\"24px\">\n",
              "    <g>\n",
              "        <path d=\"M19 3H5c-1.1 0-2 .9-2 2v14c0 1.1.9 2 2 2h14c1.1 0 2-.9 2-2V5c0-1.1-.9-2-2-2zM9 17H7v-7h2v7zm4 0h-2V7h2v10zm4 0h-2v-4h2v4z\"/>\n",
              "    </g>\n",
              "</svg>\n",
              "  </button>\n",
              "\n",
              "<style>\n",
              "  .colab-df-quickchart {\n",
              "    background-color: #E8F0FE;\n",
              "    border: none;\n",
              "    border-radius: 50%;\n",
              "    cursor: pointer;\n",
              "    display: none;\n",
              "    fill: #1967D2;\n",
              "    height: 32px;\n",
              "    padding: 0 0 0 0;\n",
              "    width: 32px;\n",
              "  }\n",
              "\n",
              "  .colab-df-quickchart:hover {\n",
              "    background-color: #E2EBFA;\n",
              "    box-shadow: 0px 1px 2px rgba(60, 64, 67, 0.3), 0px 1px 3px 1px rgba(60, 64, 67, 0.15);\n",
              "    fill: #174EA6;\n",
              "  }\n",
              "\n",
              "  [theme=dark] .colab-df-quickchart {\n",
              "    background-color: #3B4455;\n",
              "    fill: #D2E3FC;\n",
              "  }\n",
              "\n",
              "  [theme=dark] .colab-df-quickchart:hover {\n",
              "    background-color: #434B5C;\n",
              "    box-shadow: 0px 1px 3px 1px rgba(0, 0, 0, 0.15);\n",
              "    filter: drop-shadow(0px 1px 2px rgba(0, 0, 0, 0.3));\n",
              "    fill: #FFFFFF;\n",
              "  }\n",
              "</style>\n",
              "\n",
              "  <script>\n",
              "    async function quickchart(key) {\n",
              "      const charts = await google.colab.kernel.invokeFunction(\n",
              "          'suggestCharts', [key], {});\n",
              "    }\n",
              "    (() => {\n",
              "      let quickchartButtonEl =\n",
              "        document.querySelector('#df-629cfdf9-c38a-481a-baaf-cb09c70420da button');\n",
              "      quickchartButtonEl.style.display =\n",
              "        google.colab.kernel.accessAllowed ? 'block' : 'none';\n",
              "    })();\n",
              "  </script>\n",
              "</div>\n",
              "\n",
              "    </div>\n",
              "  </div>\n"
            ]
          },
          "metadata": {},
          "execution_count": 98
        }
      ]
    },
    {
      "cell_type": "code",
      "source": [
        "df_tag.head()"
      ],
      "metadata": {
        "colab": {
          "base_uri": "https://localhost:8080/",
          "height": 206
        },
        "id": "GjA3xWMDdyTp",
        "outputId": "38f9c2fc-3256-4bbc-9e51-79536f310f51"
      },
      "execution_count": 99,
      "outputs": [
        {
          "output_type": "execute_result",
          "data": {
            "text/plain": [
              "   userId  movieId            tag            timestamp\n",
              "0      18     4141    Mark Waters  2009-04-24 18:19:40\n",
              "1      65      208      dark hero  2013-05-10 01:41:18\n",
              "2      65      353      dark hero  2013-05-10 01:41:19\n",
              "3      65      521  noir thriller  2013-05-10 01:39:43\n",
              "4      65      592      dark hero  2013-05-10 01:41:18"
            ],
            "text/html": [
              "\n",
              "  <div id=\"df-267dbc49-d82c-4c53-a9c9-6a2624764b2c\" class=\"colab-df-container\">\n",
              "    <div>\n",
              "<style scoped>\n",
              "    .dataframe tbody tr th:only-of-type {\n",
              "        vertical-align: middle;\n",
              "    }\n",
              "\n",
              "    .dataframe tbody tr th {\n",
              "        vertical-align: top;\n",
              "    }\n",
              "\n",
              "    .dataframe thead th {\n",
              "        text-align: right;\n",
              "    }\n",
              "</style>\n",
              "<table border=\"1\" class=\"dataframe\">\n",
              "  <thead>\n",
              "    <tr style=\"text-align: right;\">\n",
              "      <th></th>\n",
              "      <th>userId</th>\n",
              "      <th>movieId</th>\n",
              "      <th>tag</th>\n",
              "      <th>timestamp</th>\n",
              "    </tr>\n",
              "  </thead>\n",
              "  <tbody>\n",
              "    <tr>\n",
              "      <th>0</th>\n",
              "      <td>18</td>\n",
              "      <td>4141</td>\n",
              "      <td>Mark Waters</td>\n",
              "      <td>2009-04-24 18:19:40</td>\n",
              "    </tr>\n",
              "    <tr>\n",
              "      <th>1</th>\n",
              "      <td>65</td>\n",
              "      <td>208</td>\n",
              "      <td>dark hero</td>\n",
              "      <td>2013-05-10 01:41:18</td>\n",
              "    </tr>\n",
              "    <tr>\n",
              "      <th>2</th>\n",
              "      <td>65</td>\n",
              "      <td>353</td>\n",
              "      <td>dark hero</td>\n",
              "      <td>2013-05-10 01:41:19</td>\n",
              "    </tr>\n",
              "    <tr>\n",
              "      <th>3</th>\n",
              "      <td>65</td>\n",
              "      <td>521</td>\n",
              "      <td>noir thriller</td>\n",
              "      <td>2013-05-10 01:39:43</td>\n",
              "    </tr>\n",
              "    <tr>\n",
              "      <th>4</th>\n",
              "      <td>65</td>\n",
              "      <td>592</td>\n",
              "      <td>dark hero</td>\n",
              "      <td>2013-05-10 01:41:18</td>\n",
              "    </tr>\n",
              "  </tbody>\n",
              "</table>\n",
              "</div>\n",
              "    <div class=\"colab-df-buttons\">\n",
              "\n",
              "  <div class=\"colab-df-container\">\n",
              "    <button class=\"colab-df-convert\" onclick=\"convertToInteractive('df-267dbc49-d82c-4c53-a9c9-6a2624764b2c')\"\n",
              "            title=\"Convert this dataframe to an interactive table.\"\n",
              "            style=\"display:none;\">\n",
              "\n",
              "  <svg xmlns=\"http://www.w3.org/2000/svg\" height=\"24px\" viewBox=\"0 -960 960 960\">\n",
              "    <path d=\"M120-120v-720h720v720H120Zm60-500h600v-160H180v160Zm220 220h160v-160H400v160Zm0 220h160v-160H400v160ZM180-400h160v-160H180v160Zm440 0h160v-160H620v160ZM180-180h160v-160H180v160Zm440 0h160v-160H620v160Z\"/>\n",
              "  </svg>\n",
              "    </button>\n",
              "\n",
              "  <style>\n",
              "    .colab-df-container {\n",
              "      display:flex;\n",
              "      gap: 12px;\n",
              "    }\n",
              "\n",
              "    .colab-df-convert {\n",
              "      background-color: #E8F0FE;\n",
              "      border: none;\n",
              "      border-radius: 50%;\n",
              "      cursor: pointer;\n",
              "      display: none;\n",
              "      fill: #1967D2;\n",
              "      height: 32px;\n",
              "      padding: 0 0 0 0;\n",
              "      width: 32px;\n",
              "    }\n",
              "\n",
              "    .colab-df-convert:hover {\n",
              "      background-color: #E2EBFA;\n",
              "      box-shadow: 0px 1px 2px rgba(60, 64, 67, 0.3), 0px 1px 3px 1px rgba(60, 64, 67, 0.15);\n",
              "      fill: #174EA6;\n",
              "    }\n",
              "\n",
              "    .colab-df-buttons div {\n",
              "      margin-bottom: 4px;\n",
              "    }\n",
              "\n",
              "    [theme=dark] .colab-df-convert {\n",
              "      background-color: #3B4455;\n",
              "      fill: #D2E3FC;\n",
              "    }\n",
              "\n",
              "    [theme=dark] .colab-df-convert:hover {\n",
              "      background-color: #434B5C;\n",
              "      box-shadow: 0px 1px 3px 1px rgba(0, 0, 0, 0.15);\n",
              "      filter: drop-shadow(0px 1px 2px rgba(0, 0, 0, 0.3));\n",
              "      fill: #FFFFFF;\n",
              "    }\n",
              "  </style>\n",
              "\n",
              "    <script>\n",
              "      const buttonEl =\n",
              "        document.querySelector('#df-267dbc49-d82c-4c53-a9c9-6a2624764b2c button.colab-df-convert');\n",
              "      buttonEl.style.display =\n",
              "        google.colab.kernel.accessAllowed ? 'block' : 'none';\n",
              "\n",
              "      async function convertToInteractive(key) {\n",
              "        const element = document.querySelector('#df-267dbc49-d82c-4c53-a9c9-6a2624764b2c');\n",
              "        const dataTable =\n",
              "          await google.colab.kernel.invokeFunction('convertToInteractive',\n",
              "                                                    [key], {});\n",
              "        if (!dataTable) return;\n",
              "\n",
              "        const docLinkHtml = 'Like what you see? Visit the ' +\n",
              "          '<a target=\"_blank\" href=https://colab.research.google.com/notebooks/data_table.ipynb>data table notebook</a>'\n",
              "          + ' to learn more about interactive tables.';\n",
              "        element.innerHTML = '';\n",
              "        dataTable['output_type'] = 'display_data';\n",
              "        await google.colab.output.renderOutput(dataTable, element);\n",
              "        const docLink = document.createElement('div');\n",
              "        docLink.innerHTML = docLinkHtml;\n",
              "        element.appendChild(docLink);\n",
              "      }\n",
              "    </script>\n",
              "  </div>\n",
              "\n",
              "\n",
              "<div id=\"df-07543216-89ce-4455-b870-f28a5a903323\">\n",
              "  <button class=\"colab-df-quickchart\" onclick=\"quickchart('df-07543216-89ce-4455-b870-f28a5a903323')\"\n",
              "            title=\"Suggest charts.\"\n",
              "            style=\"display:none;\">\n",
              "\n",
              "<svg xmlns=\"http://www.w3.org/2000/svg\" height=\"24px\"viewBox=\"0 0 24 24\"\n",
              "     width=\"24px\">\n",
              "    <g>\n",
              "        <path d=\"M19 3H5c-1.1 0-2 .9-2 2v14c0 1.1.9 2 2 2h14c1.1 0 2-.9 2-2V5c0-1.1-.9-2-2-2zM9 17H7v-7h2v7zm4 0h-2V7h2v10zm4 0h-2v-4h2v4z\"/>\n",
              "    </g>\n",
              "</svg>\n",
              "  </button>\n",
              "\n",
              "<style>\n",
              "  .colab-df-quickchart {\n",
              "    background-color: #E8F0FE;\n",
              "    border: none;\n",
              "    border-radius: 50%;\n",
              "    cursor: pointer;\n",
              "    display: none;\n",
              "    fill: #1967D2;\n",
              "    height: 32px;\n",
              "    padding: 0 0 0 0;\n",
              "    width: 32px;\n",
              "  }\n",
              "\n",
              "  .colab-df-quickchart:hover {\n",
              "    background-color: #E2EBFA;\n",
              "    box-shadow: 0px 1px 2px rgba(60, 64, 67, 0.3), 0px 1px 3px 1px rgba(60, 64, 67, 0.15);\n",
              "    fill: #174EA6;\n",
              "  }\n",
              "\n",
              "  [theme=dark] .colab-df-quickchart {\n",
              "    background-color: #3B4455;\n",
              "    fill: #D2E3FC;\n",
              "  }\n",
              "\n",
              "  [theme=dark] .colab-df-quickchart:hover {\n",
              "    background-color: #434B5C;\n",
              "    box-shadow: 0px 1px 3px 1px rgba(0, 0, 0, 0.15);\n",
              "    filter: drop-shadow(0px 1px 2px rgba(0, 0, 0, 0.3));\n",
              "    fill: #FFFFFF;\n",
              "  }\n",
              "</style>\n",
              "\n",
              "  <script>\n",
              "    async function quickchart(key) {\n",
              "      const charts = await google.colab.kernel.invokeFunction(\n",
              "          'suggestCharts', [key], {});\n",
              "    }\n",
              "    (() => {\n",
              "      let quickchartButtonEl =\n",
              "        document.querySelector('#df-07543216-89ce-4455-b870-f28a5a903323 button');\n",
              "      quickchartButtonEl.style.display =\n",
              "        google.colab.kernel.accessAllowed ? 'block' : 'none';\n",
              "    })();\n",
              "  </script>\n",
              "</div>\n",
              "\n",
              "    </div>\n",
              "  </div>\n"
            ]
          },
          "metadata": {},
          "execution_count": 99
        }
      ]
    },
    {
      "cell_type": "code",
      "source": [
        "df_genome_tags.head()"
      ],
      "metadata": {
        "colab": {
          "base_uri": "https://localhost:8080/",
          "height": 206
        },
        "id": "wqgcjfKDd02v",
        "outputId": "8272739d-969d-4955-aedb-95b3fd6cbeb2"
      },
      "execution_count": 100,
      "outputs": [
        {
          "output_type": "execute_result",
          "data": {
            "text/plain": [
              "   tagId           tag\n",
              "0      1           007\n",
              "1      2  007 (series)\n",
              "2      3  18th century\n",
              "3      4         1920s\n",
              "4      5         1930s"
            ],
            "text/html": [
              "\n",
              "  <div id=\"df-0a4f6ee3-0f7c-49d5-92c8-c1a83c5421e8\" class=\"colab-df-container\">\n",
              "    <div>\n",
              "<style scoped>\n",
              "    .dataframe tbody tr th:only-of-type {\n",
              "        vertical-align: middle;\n",
              "    }\n",
              "\n",
              "    .dataframe tbody tr th {\n",
              "        vertical-align: top;\n",
              "    }\n",
              "\n",
              "    .dataframe thead th {\n",
              "        text-align: right;\n",
              "    }\n",
              "</style>\n",
              "<table border=\"1\" class=\"dataframe\">\n",
              "  <thead>\n",
              "    <tr style=\"text-align: right;\">\n",
              "      <th></th>\n",
              "      <th>tagId</th>\n",
              "      <th>tag</th>\n",
              "    </tr>\n",
              "  </thead>\n",
              "  <tbody>\n",
              "    <tr>\n",
              "      <th>0</th>\n",
              "      <td>1</td>\n",
              "      <td>007</td>\n",
              "    </tr>\n",
              "    <tr>\n",
              "      <th>1</th>\n",
              "      <td>2</td>\n",
              "      <td>007 (series)</td>\n",
              "    </tr>\n",
              "    <tr>\n",
              "      <th>2</th>\n",
              "      <td>3</td>\n",
              "      <td>18th century</td>\n",
              "    </tr>\n",
              "    <tr>\n",
              "      <th>3</th>\n",
              "      <td>4</td>\n",
              "      <td>1920s</td>\n",
              "    </tr>\n",
              "    <tr>\n",
              "      <th>4</th>\n",
              "      <td>5</td>\n",
              "      <td>1930s</td>\n",
              "    </tr>\n",
              "  </tbody>\n",
              "</table>\n",
              "</div>\n",
              "    <div class=\"colab-df-buttons\">\n",
              "\n",
              "  <div class=\"colab-df-container\">\n",
              "    <button class=\"colab-df-convert\" onclick=\"convertToInteractive('df-0a4f6ee3-0f7c-49d5-92c8-c1a83c5421e8')\"\n",
              "            title=\"Convert this dataframe to an interactive table.\"\n",
              "            style=\"display:none;\">\n",
              "\n",
              "  <svg xmlns=\"http://www.w3.org/2000/svg\" height=\"24px\" viewBox=\"0 -960 960 960\">\n",
              "    <path d=\"M120-120v-720h720v720H120Zm60-500h600v-160H180v160Zm220 220h160v-160H400v160Zm0 220h160v-160H400v160ZM180-400h160v-160H180v160Zm440 0h160v-160H620v160ZM180-180h160v-160H180v160Zm440 0h160v-160H620v160Z\"/>\n",
              "  </svg>\n",
              "    </button>\n",
              "\n",
              "  <style>\n",
              "    .colab-df-container {\n",
              "      display:flex;\n",
              "      gap: 12px;\n",
              "    }\n",
              "\n",
              "    .colab-df-convert {\n",
              "      background-color: #E8F0FE;\n",
              "      border: none;\n",
              "      border-radius: 50%;\n",
              "      cursor: pointer;\n",
              "      display: none;\n",
              "      fill: #1967D2;\n",
              "      height: 32px;\n",
              "      padding: 0 0 0 0;\n",
              "      width: 32px;\n",
              "    }\n",
              "\n",
              "    .colab-df-convert:hover {\n",
              "      background-color: #E2EBFA;\n",
              "      box-shadow: 0px 1px 2px rgba(60, 64, 67, 0.3), 0px 1px 3px 1px rgba(60, 64, 67, 0.15);\n",
              "      fill: #174EA6;\n",
              "    }\n",
              "\n",
              "    .colab-df-buttons div {\n",
              "      margin-bottom: 4px;\n",
              "    }\n",
              "\n",
              "    [theme=dark] .colab-df-convert {\n",
              "      background-color: #3B4455;\n",
              "      fill: #D2E3FC;\n",
              "    }\n",
              "\n",
              "    [theme=dark] .colab-df-convert:hover {\n",
              "      background-color: #434B5C;\n",
              "      box-shadow: 0px 1px 3px 1px rgba(0, 0, 0, 0.15);\n",
              "      filter: drop-shadow(0px 1px 2px rgba(0, 0, 0, 0.3));\n",
              "      fill: #FFFFFF;\n",
              "    }\n",
              "  </style>\n",
              "\n",
              "    <script>\n",
              "      const buttonEl =\n",
              "        document.querySelector('#df-0a4f6ee3-0f7c-49d5-92c8-c1a83c5421e8 button.colab-df-convert');\n",
              "      buttonEl.style.display =\n",
              "        google.colab.kernel.accessAllowed ? 'block' : 'none';\n",
              "\n",
              "      async function convertToInteractive(key) {\n",
              "        const element = document.querySelector('#df-0a4f6ee3-0f7c-49d5-92c8-c1a83c5421e8');\n",
              "        const dataTable =\n",
              "          await google.colab.kernel.invokeFunction('convertToInteractive',\n",
              "                                                    [key], {});\n",
              "        if (!dataTable) return;\n",
              "\n",
              "        const docLinkHtml = 'Like what you see? Visit the ' +\n",
              "          '<a target=\"_blank\" href=https://colab.research.google.com/notebooks/data_table.ipynb>data table notebook</a>'\n",
              "          + ' to learn more about interactive tables.';\n",
              "        element.innerHTML = '';\n",
              "        dataTable['output_type'] = 'display_data';\n",
              "        await google.colab.output.renderOutput(dataTable, element);\n",
              "        const docLink = document.createElement('div');\n",
              "        docLink.innerHTML = docLinkHtml;\n",
              "        element.appendChild(docLink);\n",
              "      }\n",
              "    </script>\n",
              "  </div>\n",
              "\n",
              "\n",
              "<div id=\"df-9b11d088-7b7c-43c8-be37-6e0e831654f4\">\n",
              "  <button class=\"colab-df-quickchart\" onclick=\"quickchart('df-9b11d088-7b7c-43c8-be37-6e0e831654f4')\"\n",
              "            title=\"Suggest charts.\"\n",
              "            style=\"display:none;\">\n",
              "\n",
              "<svg xmlns=\"http://www.w3.org/2000/svg\" height=\"24px\"viewBox=\"0 0 24 24\"\n",
              "     width=\"24px\">\n",
              "    <g>\n",
              "        <path d=\"M19 3H5c-1.1 0-2 .9-2 2v14c0 1.1.9 2 2 2h14c1.1 0 2-.9 2-2V5c0-1.1-.9-2-2-2zM9 17H7v-7h2v7zm4 0h-2V7h2v10zm4 0h-2v-4h2v4z\"/>\n",
              "    </g>\n",
              "</svg>\n",
              "  </button>\n",
              "\n",
              "<style>\n",
              "  .colab-df-quickchart {\n",
              "    background-color: #E8F0FE;\n",
              "    border: none;\n",
              "    border-radius: 50%;\n",
              "    cursor: pointer;\n",
              "    display: none;\n",
              "    fill: #1967D2;\n",
              "    height: 32px;\n",
              "    padding: 0 0 0 0;\n",
              "    width: 32px;\n",
              "  }\n",
              "\n",
              "  .colab-df-quickchart:hover {\n",
              "    background-color: #E2EBFA;\n",
              "    box-shadow: 0px 1px 2px rgba(60, 64, 67, 0.3), 0px 1px 3px 1px rgba(60, 64, 67, 0.15);\n",
              "    fill: #174EA6;\n",
              "  }\n",
              "\n",
              "  [theme=dark] .colab-df-quickchart {\n",
              "    background-color: #3B4455;\n",
              "    fill: #D2E3FC;\n",
              "  }\n",
              "\n",
              "  [theme=dark] .colab-df-quickchart:hover {\n",
              "    background-color: #434B5C;\n",
              "    box-shadow: 0px 1px 3px 1px rgba(0, 0, 0, 0.15);\n",
              "    filter: drop-shadow(0px 1px 2px rgba(0, 0, 0, 0.3));\n",
              "    fill: #FFFFFF;\n",
              "  }\n",
              "</style>\n",
              "\n",
              "  <script>\n",
              "    async function quickchart(key) {\n",
              "      const charts = await google.colab.kernel.invokeFunction(\n",
              "          'suggestCharts', [key], {});\n",
              "    }\n",
              "    (() => {\n",
              "      let quickchartButtonEl =\n",
              "        document.querySelector('#df-9b11d088-7b7c-43c8-be37-6e0e831654f4 button');\n",
              "      quickchartButtonEl.style.display =\n",
              "        google.colab.kernel.accessAllowed ? 'block' : 'none';\n",
              "    })();\n",
              "  </script>\n",
              "</div>\n",
              "\n",
              "    </div>\n",
              "  </div>\n"
            ]
          },
          "metadata": {},
          "execution_count": 100
        }
      ]
    },
    {
      "cell_type": "code",
      "source": [
        "df_genome_scores.head()"
      ],
      "metadata": {
        "colab": {
          "base_uri": "https://localhost:8080/",
          "height": 206
        },
        "id": "5P4Kj5MSd3JD",
        "outputId": "72e69f2a-bf92-4812-fd4e-1dad6b2e9ad2"
      },
      "execution_count": 101,
      "outputs": [
        {
          "output_type": "execute_result",
          "data": {
            "text/plain": [
              "   movieId  tagId  relevance\n",
              "0        1      1    0.02500\n",
              "1        1      2    0.02500\n",
              "2        1      3    0.05775\n",
              "3        1      4    0.09675\n",
              "4        1      5    0.14675"
            ],
            "text/html": [
              "\n",
              "  <div id=\"df-2c874694-acb4-41dd-b385-29853551f8cc\" class=\"colab-df-container\">\n",
              "    <div>\n",
              "<style scoped>\n",
              "    .dataframe tbody tr th:only-of-type {\n",
              "        vertical-align: middle;\n",
              "    }\n",
              "\n",
              "    .dataframe tbody tr th {\n",
              "        vertical-align: top;\n",
              "    }\n",
              "\n",
              "    .dataframe thead th {\n",
              "        text-align: right;\n",
              "    }\n",
              "</style>\n",
              "<table border=\"1\" class=\"dataframe\">\n",
              "  <thead>\n",
              "    <tr style=\"text-align: right;\">\n",
              "      <th></th>\n",
              "      <th>movieId</th>\n",
              "      <th>tagId</th>\n",
              "      <th>relevance</th>\n",
              "    </tr>\n",
              "  </thead>\n",
              "  <tbody>\n",
              "    <tr>\n",
              "      <th>0</th>\n",
              "      <td>1</td>\n",
              "      <td>1</td>\n",
              "      <td>0.02500</td>\n",
              "    </tr>\n",
              "    <tr>\n",
              "      <th>1</th>\n",
              "      <td>1</td>\n",
              "      <td>2</td>\n",
              "      <td>0.02500</td>\n",
              "    </tr>\n",
              "    <tr>\n",
              "      <th>2</th>\n",
              "      <td>1</td>\n",
              "      <td>3</td>\n",
              "      <td>0.05775</td>\n",
              "    </tr>\n",
              "    <tr>\n",
              "      <th>3</th>\n",
              "      <td>1</td>\n",
              "      <td>4</td>\n",
              "      <td>0.09675</td>\n",
              "    </tr>\n",
              "    <tr>\n",
              "      <th>4</th>\n",
              "      <td>1</td>\n",
              "      <td>5</td>\n",
              "      <td>0.14675</td>\n",
              "    </tr>\n",
              "  </tbody>\n",
              "</table>\n",
              "</div>\n",
              "    <div class=\"colab-df-buttons\">\n",
              "\n",
              "  <div class=\"colab-df-container\">\n",
              "    <button class=\"colab-df-convert\" onclick=\"convertToInteractive('df-2c874694-acb4-41dd-b385-29853551f8cc')\"\n",
              "            title=\"Convert this dataframe to an interactive table.\"\n",
              "            style=\"display:none;\">\n",
              "\n",
              "  <svg xmlns=\"http://www.w3.org/2000/svg\" height=\"24px\" viewBox=\"0 -960 960 960\">\n",
              "    <path d=\"M120-120v-720h720v720H120Zm60-500h600v-160H180v160Zm220 220h160v-160H400v160Zm0 220h160v-160H400v160ZM180-400h160v-160H180v160Zm440 0h160v-160H620v160ZM180-180h160v-160H180v160Zm440 0h160v-160H620v160Z\"/>\n",
              "  </svg>\n",
              "    </button>\n",
              "\n",
              "  <style>\n",
              "    .colab-df-container {\n",
              "      display:flex;\n",
              "      gap: 12px;\n",
              "    }\n",
              "\n",
              "    .colab-df-convert {\n",
              "      background-color: #E8F0FE;\n",
              "      border: none;\n",
              "      border-radius: 50%;\n",
              "      cursor: pointer;\n",
              "      display: none;\n",
              "      fill: #1967D2;\n",
              "      height: 32px;\n",
              "      padding: 0 0 0 0;\n",
              "      width: 32px;\n",
              "    }\n",
              "\n",
              "    .colab-df-convert:hover {\n",
              "      background-color: #E2EBFA;\n",
              "      box-shadow: 0px 1px 2px rgba(60, 64, 67, 0.3), 0px 1px 3px 1px rgba(60, 64, 67, 0.15);\n",
              "      fill: #174EA6;\n",
              "    }\n",
              "\n",
              "    .colab-df-buttons div {\n",
              "      margin-bottom: 4px;\n",
              "    }\n",
              "\n",
              "    [theme=dark] .colab-df-convert {\n",
              "      background-color: #3B4455;\n",
              "      fill: #D2E3FC;\n",
              "    }\n",
              "\n",
              "    [theme=dark] .colab-df-convert:hover {\n",
              "      background-color: #434B5C;\n",
              "      box-shadow: 0px 1px 3px 1px rgba(0, 0, 0, 0.15);\n",
              "      filter: drop-shadow(0px 1px 2px rgba(0, 0, 0, 0.3));\n",
              "      fill: #FFFFFF;\n",
              "    }\n",
              "  </style>\n",
              "\n",
              "    <script>\n",
              "      const buttonEl =\n",
              "        document.querySelector('#df-2c874694-acb4-41dd-b385-29853551f8cc button.colab-df-convert');\n",
              "      buttonEl.style.display =\n",
              "        google.colab.kernel.accessAllowed ? 'block' : 'none';\n",
              "\n",
              "      async function convertToInteractive(key) {\n",
              "        const element = document.querySelector('#df-2c874694-acb4-41dd-b385-29853551f8cc');\n",
              "        const dataTable =\n",
              "          await google.colab.kernel.invokeFunction('convertToInteractive',\n",
              "                                                    [key], {});\n",
              "        if (!dataTable) return;\n",
              "\n",
              "        const docLinkHtml = 'Like what you see? Visit the ' +\n",
              "          '<a target=\"_blank\" href=https://colab.research.google.com/notebooks/data_table.ipynb>data table notebook</a>'\n",
              "          + ' to learn more about interactive tables.';\n",
              "        element.innerHTML = '';\n",
              "        dataTable['output_type'] = 'display_data';\n",
              "        await google.colab.output.renderOutput(dataTable, element);\n",
              "        const docLink = document.createElement('div');\n",
              "        docLink.innerHTML = docLinkHtml;\n",
              "        element.appendChild(docLink);\n",
              "      }\n",
              "    </script>\n",
              "  </div>\n",
              "\n",
              "\n",
              "<div id=\"df-a440b2d0-d33b-4100-a905-e6f7c4c81c89\">\n",
              "  <button class=\"colab-df-quickchart\" onclick=\"quickchart('df-a440b2d0-d33b-4100-a905-e6f7c4c81c89')\"\n",
              "            title=\"Suggest charts.\"\n",
              "            style=\"display:none;\">\n",
              "\n",
              "<svg xmlns=\"http://www.w3.org/2000/svg\" height=\"24px\"viewBox=\"0 0 24 24\"\n",
              "     width=\"24px\">\n",
              "    <g>\n",
              "        <path d=\"M19 3H5c-1.1 0-2 .9-2 2v14c0 1.1.9 2 2 2h14c1.1 0 2-.9 2-2V5c0-1.1-.9-2-2-2zM9 17H7v-7h2v7zm4 0h-2V7h2v10zm4 0h-2v-4h2v4z\"/>\n",
              "    </g>\n",
              "</svg>\n",
              "  </button>\n",
              "\n",
              "<style>\n",
              "  .colab-df-quickchart {\n",
              "    background-color: #E8F0FE;\n",
              "    border: none;\n",
              "    border-radius: 50%;\n",
              "    cursor: pointer;\n",
              "    display: none;\n",
              "    fill: #1967D2;\n",
              "    height: 32px;\n",
              "    padding: 0 0 0 0;\n",
              "    width: 32px;\n",
              "  }\n",
              "\n",
              "  .colab-df-quickchart:hover {\n",
              "    background-color: #E2EBFA;\n",
              "    box-shadow: 0px 1px 2px rgba(60, 64, 67, 0.3), 0px 1px 3px 1px rgba(60, 64, 67, 0.15);\n",
              "    fill: #174EA6;\n",
              "  }\n",
              "\n",
              "  [theme=dark] .colab-df-quickchart {\n",
              "    background-color: #3B4455;\n",
              "    fill: #D2E3FC;\n",
              "  }\n",
              "\n",
              "  [theme=dark] .colab-df-quickchart:hover {\n",
              "    background-color: #434B5C;\n",
              "    box-shadow: 0px 1px 3px 1px rgba(0, 0, 0, 0.15);\n",
              "    filter: drop-shadow(0px 1px 2px rgba(0, 0, 0, 0.3));\n",
              "    fill: #FFFFFF;\n",
              "  }\n",
              "</style>\n",
              "\n",
              "  <script>\n",
              "    async function quickchart(key) {\n",
              "      const charts = await google.colab.kernel.invokeFunction(\n",
              "          'suggestCharts', [key], {});\n",
              "    }\n",
              "    (() => {\n",
              "      let quickchartButtonEl =\n",
              "        document.querySelector('#df-a440b2d0-d33b-4100-a905-e6f7c4c81c89 button');\n",
              "      quickchartButtonEl.style.display =\n",
              "        google.colab.kernel.accessAllowed ? 'block' : 'none';\n",
              "    })();\n",
              "  </script>\n",
              "</div>\n",
              "\n",
              "    </div>\n",
              "  </div>\n"
            ]
          },
          "metadata": {},
          "execution_count": 101
        }
      ]
    },
    {
      "cell_type": "code",
      "source": [
        "print(f\"Number of unique movies= {len(df_movies)}\")\n",
        "print(f\"Number of unique users= {len(df_ratings.userId.unique())}\")\n",
        "\n",
        "print(f\"Number of unique rated movies= {len(df_ratings.movieId.unique())} (not all movies are rated by users)\")\n",
        "\n",
        "# MovieLens rating system\n",
        "print(f\"Number of tags= {len(df_genome_tags)}\")\n",
        "print(f\"Number of tagger users= {len(df_tag.userId.unique())} (who created/assigned tags)\")\n",
        "print(f\"Number of created unrefined tags= {len(df_tag.tag.unique())} (created tags, not-refined tags)\")\n",
        "\n",
        "Genres = defaultdict(int)\n",
        "for genre in df_movies.genres:\n",
        "    if 'no' not in genre:\n",
        "        m = re.findall(r\"([A-Za-z-]+)(?=\\||$)\", genre)\n",
        "        if m:\n",
        "            for gen in m:\n",
        "                Genres[gen] += 1\n",
        "\n",
        "print(f\"Number of genres= {len(Genres.keys())}\")"
      ],
      "metadata": {
        "colab": {
          "base_uri": "https://localhost:8080/"
        },
        "id": "dEaRAmxad60i",
        "outputId": "63d5812c-3c22-41f8-99d6-487e3f414772"
      },
      "execution_count": 102,
      "outputs": [
        {
          "output_type": "stream",
          "name": "stdout",
          "text": [
            "Number of unique movies= 27278\n",
            "Number of unique users= 138493\n",
            "Number of unique rated movies= 26744 (not all movies are rated by users)\n",
            "Number of tags= 1128\n",
            "Number of tagger users= 7801 (who created/assigned tags)\n",
            "Number of created unrefined tags= 38644 (created tags, not-refined tags)\n",
            "Number of genres= 19\n"
          ]
        }
      ]
    },
    {
      "cell_type": "code",
      "source": [
        "# genres\n",
        "gens = sorted(Genres.keys())\n",
        "\n",
        "plt.figure(figsize=(10,5), dpi=72)\n",
        "plt.bar(gens, [Genres[g] for g in gens])\n",
        "plt.xticks(rotation=90, fontsize=12)\n",
        "plt.grid(axis='y')\n",
        "plt.title('Genres')\n",
        "plt.show()"
      ],
      "metadata": {
        "colab": {
          "base_uri": "https://localhost:8080/",
          "height": 413
        },
        "id": "KMrp5EVbd-rs",
        "outputId": "95da5932-6045-439b-ec59-b5aa5025df6e"
      },
      "execution_count": 103,
      "outputs": [
        {
          "output_type": "display_data",
          "data": {
            "text/plain": [
              "<Figure size 720x360 with 1 Axes>"
            ],
            "image/png": "[encoded data removed]"
          },
          "metadata": {}
        }
      ]
    },
    {
      "cell_type": "code",
      "source": [
        "# explore ratings data\n",
        "Rating_Min, Rating_Max = df_ratings.rating.min(), df_ratings.rating.max()\n",
        "print(Rating_Min, Rating_Max)"
      ],
      "metadata": {
        "colab": {
          "base_uri": "https://localhost:8080/"
        },
        "id": "pTnvk3M8eb2k",
        "outputId": "0d9c6d46-8eb9-450c-b8c5-89b512b9dfc7"
      },
      "execution_count": 104,
      "outputs": [
        {
          "output_type": "stream",
          "name": "stdout",
          "text": [
            "0.5 5.0\n"
          ]
        }
      ]
    },
    {
      "cell_type": "code",
      "source": [
        "# movies index\n",
        "movies = df_ratings.movieId.unique()\n",
        "MoviesIndex = {mov:i for i, mov in enumerate(movies)}\n",
        "MoviesIndexRev = {MoviesIndex[mov]:mov for mov in MoviesIndex.keys()}\n",
        "\n",
        "print(len(MoviesIndex.keys()), len(MoviesIndexRev.keys()))"
      ],
      "metadata": {
        "colab": {
          "base_uri": "https://localhost:8080/"
        },
        "id": "WlbDXBlzefv2",
        "outputId": "0f9f8dd9-c680-4d38-856c-cef3f4ece730"
      },
      "execution_count": 105,
      "outputs": [
        {
          "output_type": "stream",
          "name": "stdout",
          "text": [
            "26744 26744\n"
          ]
        }
      ]
    },
    {
      "cell_type": "code",
      "source": [
        "%%time\n",
        "\n",
        "# rating matrix N-by-M, users-by-movies\n",
        "\n",
        "# N = len(df_ratings.userId.unique())\n",
        "N = USERS_N  # Full problem as above\n",
        "M = len(MoviesIndex.keys())\n",
        "Ratings = np.zeros((N,M), dtype=np.float32)\n",
        "\n",
        "for _, row in df_ratings.iterrows():\n",
        "    if row.userId > USERS_N:  # Shorten the problem dataset\n",
        "        break\n",
        "    Ratings[row.userId-1, MoviesIndex[row.movieId]] = row.rating"
      ],
      "metadata": {
        "colab": {
          "base_uri": "https://localhost:8080/"
        },
        "id": "pP0IURc3eizY",
        "outputId": "85e53026-f6a0-405b-c7ed-865bed1c2776"
      },
      "execution_count": 106,
      "outputs": [
        {
          "output_type": "stream",
          "name": "stdout",
          "text": [
            "CPU times: user 11.6 s, sys: 1.65 s, total: 13.2 s\n",
            "Wall time: 13.2 s\n"
          ]
        }
      ]
    },
    {
      "cell_type": "code",
      "source": [
        "\n"
      ],
      "metadata": {
        "id": "YglERuyjgCRf"
      },
      "execution_count": 106,
      "outputs": []
    },
    {
      "cell_type": "code",
      "source": [
        "# remove movies that have min number of ratings from the user list\n",
        "#RATINGS_N_MIN= 20\n",
        "RATINGS_N_MIN= 40\n",
        "#RATINGS_N_MIN= 70 give error\n",
        "\n",
        "\n",
        "\n",
        "moviesnull = np.where(np.count_nonzero(Ratings, axis=0) <= RATINGS_N_MIN)[0]\n",
        "moviesnull = [MoviesIndexRev[_] for _ in moviesnull]\n",
        "\n",
        "print(len(moviesnull))"
      ],
      "metadata": {
        "colab": {
          "base_uri": "https://localhost:8080/"
        },
        "id": "gc1eJ8PXe3j8",
        "outputId": "5aed58dd-6243-47fa-b5b3-f57c38adb851"
      },
      "execution_count": 107,
      "outputs": [
        {
          "output_type": "stream",
          "name": "stdout",
          "text": [
            "25814\n"
          ]
        }
      ]
    },
    {
      "cell_type": "code",
      "source": [
        "# movies index\n",
        "movies = list(set(df_ratings.movieId.unique().tolist()) - set(moviesnull))\n",
        "MoviesIndex = {mov:i for i, mov in enumerate(movies)}\n",
        "MoviesIndexRev = {MoviesIndex[mov]:mov for mov in MoviesIndex.keys()}\n",
        "\n",
        "print(len(MoviesIndex.keys()), len(MoviesIndexRev.keys()))"
      ],
      "metadata": {
        "colab": {
          "base_uri": "https://localhost:8080/"
        },
        "id": "_hL3IG-ChJxH",
        "outputId": "f024c2e2-846e-4da6-e383-f0e20138d317"
      },
      "execution_count": 108,
      "outputs": [
        {
          "output_type": "stream",
          "name": "stdout",
          "text": [
            "930 930\n"
          ]
        }
      ]
    },
    {
      "cell_type": "code",
      "source": [
        "# update the rating matrix\n",
        "M = len(MoviesIndex.keys())\n",
        "Ratings = np.zeros((N,M), dtype=np.float32)\n",
        "\n",
        "for _, row in df_ratings.iterrows():\n",
        "    if row.userId > USERS_N:  # Shorten the problem dataset\n",
        "        break\n",
        "    if row.movieId in MoviesIndex:  # Skip low count rated movies\n",
        "        Ratings[row.userId-1, MoviesIndex[row.movieId]] = row.rating\n",
        "\n",
        "print(Ratings.shape)  # number of users, number of movies"
      ],
      "metadata": {
        "colab": {
          "base_uri": "https://localhost:8080/"
        },
        "id": "cYFWps1ehUUb",
        "outputId": "7585051c-6372-4222-d1e8-a9c363236fdf"
      },
      "execution_count": 109,
      "outputs": [
        {
          "output_type": "stream",
          "name": "stdout",
          "text": [
            "(1000, 930)\n"
          ]
        }
      ]
    },
    {
      "cell_type": "code",
      "source": [
        "# sanity\n",
        "moviesnull = np.where(np.count_nonzero(Ratings, axis=0) <= RATINGS_N_MIN)[0]\n",
        "\n",
        "print(len(moviesnull))"
      ],
      "metadata": {
        "colab": {
          "base_uri": "https://localhost:8080/"
        },
        "id": "-mrlG5orhdid",
        "outputId": "51b58234-08ca-46e5-9dfd-e3faf4b9f762"
      },
      "execution_count": 110,
      "outputs": [
        {
          "output_type": "stream",
          "name": "stdout",
          "text": [
            "0\n"
          ]
        }
      ]
    },
    {
      "cell_type": "code",
      "source": [
        "# distance metrics\n",
        "\n",
        "def sim_jaccard(_a:np.ndarray, _b:np.ndarray)->float:\n",
        "    ix = np.where((_a>0.) & (_b>0.))\n",
        "    ixd = np.where((_a>0.) | (_b>0.))\n",
        "    return ix[0].shape[0] / ixd[0].shape[0]\n",
        "\n",
        "def sim_costeta(_a:np.ndarray, _b:np.ndarray)->float:\n",
        "    from numpy.linalg import norm\n",
        "    assert _a.shape == _b.shape, 'require vectors same shape'\n",
        "    return np.dot(_a, _b) / (norm(_a)*norm(_b))\n",
        "\n",
        "def sim_pearson(_a:np.ndarray, _b:np.ndarray)->float:\n",
        "    ix = np.where((_a>0.) & (_b>0.))\n",
        "    if ix[0].shape[0] == 0:\n",
        "        return 0.\n",
        "    _ua, _ub = np.mean(_a[ix]), np.mean(_b[ix])\n",
        "    num = (_a[ix]-_ua) @ (_b[ix]-_ub).T\n",
        "    den  = np.sqrt(np.sum((_a[ix]-_ua)**2)) * np.sqrt(np.sum((_b[ix]-_ub)**2))\n",
        "    if den == 0.:\n",
        "        return 0.\n",
        "    return num/den\n",
        "\n",
        "def dist_L1(_a:np.ndarray, _b:np.ndarray)->float:\n",
        "    ix = np.where((_a>0.) & (_b>0.))\n",
        "    if ix[0].shape[0] == 0:\n",
        "        return 1.\n",
        "    return np.sum(np.abs(_a[ix]-_b[ix])) / ix[0].shape[0]\n",
        "\n",
        "def dist_L2(_a:np.ndarray, _b:np.ndarray)->float:\n",
        "    ix = np.where((_a>0.) & (_b>0.))\n",
        "    if ix[0].shape[0] == 0:\n",
        "        return 1.\n",
        "    return np.sqrt(np.sum((_a[ix]-_b[ix])**2)) / ix[0].shape[0]\n",
        "\n",
        "def dist_cheby(_a:np.ndarray, _b:np.ndarray)->float:\n",
        "    ix = np.where((_a>0.) & (_b>0.))\n",
        "    if ix[0].shape[0] == 0:\n",
        "        return 1.\n",
        "    return np.max(_a[ix]-_b[ix]) / (Rating_Max-Rating_Min)\n",
        "\n",
        "DistanceMetrics = [(sim_jaccard, 'Jaccard (sim)'), (sim_costeta, 'CosTeta (sim)'), (sim_pearson, 'Pearson (sim)'),\n",
        "                   (dist_L1, 'L1 (dist)'), (dist_L2, 'L2 (dist)'), (dist_cheby, 'Chebyshev (dist)')]"
      ],
      "metadata": {
        "id": "oIwMrWEHhiDw"
      },
      "execution_count": 111,
      "outputs": []
    },
    {
      "cell_type": "code",
      "source": [
        "# distances\n",
        "USER_A, USER_B = 0, 1\n",
        "\n",
        "x1, x2 = Ratings[USER_A], Ratings[USER_B]\n",
        "\n",
        "for metric in DistanceMetrics:\n",
        "    print(f'{metric[1]:<17} {metric[0](x1, x2):.3f}')"
      ],
      "metadata": {
        "colab": {
          "base_uri": "https://localhost:8080/"
        },
        "id": "kUfgZy9uhlIh",
        "outputId": "499d2efd-fe4f-47e0-94d5-ab3a89c3a2ff"
      },
      "execution_count": 112,
      "outputs": [
        {
          "output_type": "stream",
          "name": "stdout",
          "text": [
            "Jaccard (sim)     0.066\n",
            "CosTeta (sim)     0.159\n",
            "Pearson (sim)     -0.069\n",
            "L1 (dist)         1.167\n",
            "L2 (dist)         0.412\n",
            "Chebyshev (dist)  0.444\n"
          ]
        }
      ]
    },
    {
      "cell_type": "code",
      "source": [
        "Ratings[USER_A]"
      ],
      "metadata": {
        "colab": {
          "base_uri": "https://localhost:8080/"
        },
        "id": "SHIlV5V1hx8U",
        "outputId": "b932e812-ed4f-4baf-8df6-7a8b71ed6779"
      },
      "execution_count": 113,
      "outputs": [
        {
          "output_type": "execute_result",
          "data": {
            "text/plain": [
              "array([0. , 3.5, 0. , 0. , 0. , 0. , 0. , 3.5, 0. , 0. , 0. , 0. , 0. ,\n",
              "       0. , 0. , 0. , 0. , 0. , 0. , 0. , 0. , 0. , 3.5, 0. , 0. , 3.5,\n",
              "       0. , 0. , 0. , 0. , 0. , 4. , 0. , 0. , 0. , 0. , 0. , 0. , 3.5,\n",
              "       0. , 0. , 3.5, 0. , 4. , 0. , 0. , 0. , 0. , 0. , 0. , 0. , 0. ,\n",
              "       0. , 0. , 0. , 0. , 0. , 0. , 0. , 0. , 0. , 0. , 4. , 0. , 0. ,\n",
              "       0. , 0. , 0. , 0. , 0. , 0. , 3.5, 0. , 0. , 0. , 0. , 4. , 0. ,\n",
              "       3.5, 0. , 0. , 0. , 0. , 0. , 4. , 3.5, 0. , 4. , 0. , 0. , 0. ,\n",
              "       0. , 0. , 0. , 0. , 0. , 0. , 0. , 0. , 0. , 0. , 0. , 0. , 0. ,\n",
              "       4. , 0. , 0. , 0. , 0. , 0. , 0. , 4. , 0. , 0. , 0. , 0. , 0. ,\n",
              "       0. , 0. , 0. , 4. , 0. , 0. , 0. , 0. , 0. , 4. , 0. , 0. , 0. ,\n",
              "       0. , 0. , 0. , 0. , 0. , 0. , 0. , 0. , 0. , 0. , 0. , 0. , 4. ,\n",
              "       0. , 4. , 0. , 0. , 0. , 0. , 0. , 0. , 4. , 0. , 0. , 0. , 4. ,\n",
              "       0. , 0. , 0. , 0. , 0. , 0. , 0. , 0. , 0. , 0. , 0. , 0. , 0. ,\n",
              "       0. , 0. , 0. , 0. , 0. , 0. , 0. , 0. , 4. , 4. , 0. , 0. , 0. ,\n",
              "       0. , 0. , 0. , 0. , 0. , 0. , 0. , 0. , 4. , 0. , 0. , 0. , 0. ,\n",
              "       0. , 0. , 0. , 0. , 0. , 3.5, 0. , 0. , 0. , 0. , 0. , 0. , 0. ,\n",
              "       0. , 0. , 0. , 0. , 0. , 0. , 0. , 0. , 3.5, 0. , 0. , 0. , 0. ,\n",
              "       0. , 0. , 0. , 0. , 0. , 0. , 0. , 0. , 3.5, 0. , 0. , 0. , 0. ,\n",
              "       0. , 0. , 0. , 0. , 0. , 0. , 0. , 0. , 0. , 0. , 0. , 0. , 0. ,\n",
              "       0. , 4. , 0. , 0. , 0. , 0. , 0. , 0. , 0. , 0. , 0. , 0. , 0. ,\n",
              "       0. , 0. , 0. , 0. , 0. , 0. , 0. , 0. , 4.5, 0. , 0. , 0. , 0. ,\n",
              "       0. , 0. , 0. , 0. , 0. , 0. , 0. , 0. , 0. , 0. , 4. , 0. , 0. ,\n",
              "       0. , 0. , 0. , 0. , 0. , 4. , 0. , 0. , 0. , 0. , 0. , 0. , 0. ,\n",
              "       0. , 0. , 0. , 0. , 0. , 0. , 0. , 0. , 0. , 0. , 0. , 0. , 0. ,\n",
              "       0. , 4. , 0. , 0. , 0. , 0. , 0. , 0. , 0. , 0. , 0. , 0. , 0. ,\n",
              "       0. , 0. , 0. , 0. , 0. , 4. , 0. , 0. , 0. , 0. , 3.5, 0. , 0. ,\n",
              "       3.5, 0. , 0. , 0. , 0. , 0. , 0. , 0. , 0. , 0. , 0. , 0. , 0. ,\n",
              "       0. , 0. , 0. , 3.5, 0. , 0. , 3.5, 0. , 3.5, 0. , 0. , 3.5, 0. ,\n",
              "       0. , 0. , 0. , 0. , 3. , 0. , 0. , 0. , 0. , 0. , 0. , 3.5, 0. ,\n",
              "       0. , 3.5, 0. , 0. , 0. , 0. , 0. , 0. , 0. , 0. , 0. , 0. , 0. ,\n",
              "       0. , 0. , 3. , 4. , 0. , 0. , 0. , 0. , 0. , 0. , 0. , 0. , 0. ,\n",
              "       0. , 0. , 0. , 0. , 0. , 0. , 0. , 0. , 0. , 0. , 0. , 0. , 0. ,\n",
              "       0. , 3.5, 0. , 0. , 4. , 0. , 0. , 0. , 0. , 0. , 3.5, 0. , 0. ,\n",
              "       0. , 0. , 0. , 0. , 0. , 0. , 0. , 0. , 0. , 0. , 4. , 0. , 0. ,\n",
              "       0. , 0. , 0. , 0. , 0. , 4. , 0. , 0. , 0. , 0. , 0. , 0. , 0. ,\n",
              "       0. , 0. , 0. , 0. , 0. , 3.5, 0. , 0. , 0. , 0. , 0. , 4. , 5. ,\n",
              "       0. , 0. , 3.5, 0. , 0. , 0. , 0. , 0. , 0. , 0. , 0. , 0. , 4. ,\n",
              "       0. , 0. , 0. , 0. , 0. , 0. , 3.5, 0. , 4. , 0. , 0. , 3.5, 0. ,\n",
              "       0. , 0. , 0. , 0. , 0. , 0. , 3.5, 0. , 0. , 0. , 0. , 0. , 0. ,\n",
              "       0. , 0. , 0. , 0. , 0. , 0. , 0. , 5. , 0. , 0. , 0. , 0. , 0. ,\n",
              "       0. , 0. , 0. , 0. , 0. , 0. , 0. , 4. , 0. , 0. , 4. , 0. , 0. ,\n",
              "       0. , 0. , 0. , 0. , 0. , 0. , 0. , 0. , 0. , 0. , 0. , 0. , 0. ,\n",
              "       0. , 0. , 0. , 0. , 4. , 3.5, 0. , 0. , 0. , 3.5, 4. , 0. , 0. ,\n",
              "       0. , 0. , 0. , 4. , 0. , 0. , 0. , 0. , 0. , 0. , 0. , 0. , 0. ,\n",
              "       0. , 0. , 0. , 0. , 0. , 0. , 0. , 0. , 3.5, 0. , 0. , 0. , 0. ,\n",
              "       0. , 0. , 0. , 0. , 0. , 0. , 0. , 0. , 0. , 3.5, 4.5, 0. , 4.5,\n",
              "       0. , 4. , 3. , 0. , 0. , 0. , 0. , 0. , 0. , 3.5, 0. , 0. , 0. ,\n",
              "       0. , 0. , 4. , 4. , 0. , 0. , 0. , 4. , 0. , 0. , 3.5, 0. , 0. ,\n",
              "       0. , 0. , 0. , 0. , 0. , 0. , 0. , 0. , 0. , 4. , 0. , 0. , 0. ,\n",
              "       3.5, 0. , 4. , 0. , 0. , 0. , 0. , 0. , 0. , 0. , 4. , 4. , 0. ,\n",
              "       3.5, 3.5, 0. , 0. , 0. , 4. , 0. , 0. , 0. , 0. , 0. , 0. , 0. ,\n",
              "       0. , 0. , 4. , 0. , 0. , 0. , 0. , 0. , 0. , 0. , 0. , 0. , 3.5,\n",
              "       0. , 0. , 4. , 0. , 0. , 0. , 0. , 3. , 0. , 0. , 0. , 0. , 0. ,\n",
              "       0. , 0. , 0. , 4. , 0. , 4. , 0. , 0. , 0. , 0. , 0. , 0. , 0. ,\n",
              "       0. , 3.5, 0. , 0. , 0. , 4. , 0. , 0. , 0. , 0. , 3. , 0. , 0. ,\n",
              "       0. , 4. , 0. , 0. , 0. , 0. , 0. , 0. , 0. , 0. , 0. , 0. , 4. ,\n",
              "       0. , 0. , 0. , 0. , 0. , 0. , 0. , 0. , 0. , 0. , 0. , 0. , 0. ,\n",
              "       0. , 0. , 3.5, 0. , 0. , 4. , 0. , 4. , 0. , 0. , 0. , 0. , 0. ,\n",
              "       0. , 0. , 0. , 0. , 0. , 0. , 0. , 0. , 0. , 0. , 0. , 0. , 0. ,\n",
              "       0. , 0. , 0. , 0. , 0. , 0. , 0. , 0. , 0. , 0. , 0. , 0. , 0. ,\n",
              "       0. , 3.5, 3.5, 0. , 0. , 0. , 0. , 0. , 0. , 0. , 0. , 0. , 0. ,\n",
              "       0. , 0. , 0. , 0. , 0. , 0. , 0. , 0. , 0. , 0. , 0. , 0. , 0. ,\n",
              "       0. , 0. , 0. , 0. , 0. , 0. , 0. , 0. , 0. , 0. , 0. , 0. , 0. ,\n",
              "       0. , 0. , 0. , 0. , 0. , 0. , 0. , 0. , 0. , 4. , 0. , 0. , 0. ,\n",
              "       0. , 0. , 0. , 0. , 0. , 0. , 0. , 0. , 0. , 0. , 0. , 0. , 0. ,\n",
              "       0. , 0. , 0. , 0. , 0. , 0. , 0. , 0. , 0. , 0. , 5. , 0. , 0. ,\n",
              "       0. , 0. , 0. , 0. , 0. , 0. , 0. , 0. , 0. , 0. , 0. , 0. , 0. ,\n",
              "       0. , 0. , 0. , 0. , 0. , 0. , 0. , 0. , 0. , 0. , 0. , 0. , 0. ,\n",
              "       0. , 0. , 0. , 0. , 4. , 0. , 0. , 0. , 0. , 0. , 0. , 0. , 0. ,\n",
              "       4. , 0. , 0. , 4. , 0. , 0. , 0. , 0. , 0. , 0. , 4. , 0. , 0. ,\n",
              "       3.5, 3.5, 3.5, 0. , 0. , 0. , 0. , 0. , 0. , 0. , 0. , 0. , 0. ,\n",
              "       0. , 0. , 4. , 0. , 0. , 0. , 0. ], dtype=float32)"
            ]
          },
          "metadata": {},
          "execution_count": 113
        }
      ]
    },
    {
      "cell_type": "code",
      "source": [
        "Users = [0, 1, 2, 3, 4]\n",
        "\n",
        "# example, user Users to other users histogram for these six distance metrics\n",
        "fig, ax = plt.subplots(nrows=2, ncols=3, sharex='none', sharey='all', figsize=(15, 9), dpi=72)\n",
        "\n",
        "for i, metric in enumerate(DistanceMetrics):\n",
        "    for u in Users:\n",
        "        d = [metric[0](Ratings[u], Ratings[_]) for _ in range(N)]\n",
        "        h = np.histogram(d, bins=50)\n",
        "        ax.flatten()[i].plot(h[1][:-1], h[0], label=f'user {u:d}', alpha=0.7)\n",
        "    ax.flatten()[i].set_title(metric[1])\n",
        "    ax.flatten()[i].legend(loc='upper right')\n",
        "    ax.flatten()[i].grid()"
      ],
      "metadata": {
        "colab": {
          "base_uri": "https://localhost:8080/",
          "height": 563
        },
        "id": "IXXgOYxCiMCP",
        "outputId": "ba67ba43-bf81-4cc4-8ac8-556d9b92d5ec"
      },
      "execution_count": 114,
      "outputs": [
        {
          "output_type": "display_data",
          "data": {
            "text/plain": [
              "<Figure size 1080x648 with 6 Axes>"
            ],
            "image/png": "[encoded data removed]"
          },
          "metadata": {}
        }
      ]
    },
    {
      "cell_type": "markdown",
      "source": [
        "## COllaborative Filtering\n",
        "User-based Example\n",
        "Find out what a user would score a particular movie that he/she did not score (or watch)\n",
        "Similarity will be based on users\n",
        "Use sim_costeta for similarity (can try other ones)\n",
        "Distance matrix is N-by-N\n",
        "Always use float32 for speed"
      ],
      "metadata": {
        "id": "E6dAAznFjd4_"
      }
    },
    {
      "cell_type": "code",
      "source": [
        "# User-based filtering\n",
        "OUR_USER= 0\n",
        "OUR_ITEM= 0  # pick an item which our user did not rate\n",
        "OUR_USER_NEIGHBORHOOD= 50  # number of users similar to our user"
      ],
      "metadata": {
        "id": "RNIRNX6XjYC3"
      },
      "execution_count": 115,
      "outputs": []
    },
    {
      "cell_type": "code",
      "source": [
        "# users who rated our item\n",
        "ix = np.where(Ratings[:,OUR_ITEM]>0.)[0]"
      ],
      "metadata": {
        "id": "dMKlREUNjZPN"
      },
      "execution_count": 116,
      "outputs": []
    },
    {
      "cell_type": "code",
      "source": [
        "%%time\n",
        "\n",
        "# generate a distance matrix - user\n",
        "Dist_u = np.zeros((N,N), dtype=np.float32)\n",
        "for i in range(N):\n",
        "    for j in range(N):\n",
        "        Dist_u[i,j] = sim_costeta(Ratings[i,:], Ratings[j,:])"
      ],
      "metadata": {
        "colab": {
          "base_uri": "https://localhost:8080/"
        },
        "id": "KbGhMKJSjutj",
        "outputId": "360faf43-4a65-4c90-d86a-89eacb3f15b2"
      },
      "execution_count": 117,
      "outputs": [
        {
          "output_type": "stream",
          "name": "stdout",
          "text": [
            "CPU times: user 11.3 s, sys: 66.3 ms, total: 11.4 s\n",
            "Wall time: 11.3 s\n"
          ]
        }
      ]
    },
    {
      "cell_type": "code",
      "source": [
        "# Pearson generates -1 to +1\n",
        "d = np.abs(Dist_u[OUR_USER,ix])\n",
        "ix_best = np.argsort(-d)[:OUR_USER_NEIGHBORHOOD]\n",
        "users = ix[ix_best]"
      ],
      "metadata": {
        "id": "Vn4ID4JHkGju"
      },
      "execution_count": 118,
      "outputs": []
    },
    {
      "cell_type": "code",
      "source": [
        "Dist_u[OUR_USER,users]"
      ],
      "metadata": {
        "colab": {
          "base_uri": "https://localhost:8080/"
        },
        "id": "1TjcY7Q9kWUj",
        "outputId": "4c6d8e86-f8b8-4838-b747-6e30b71e32d3"
      },
      "execution_count": 119,
      "outputs": [
        {
          "output_type": "execute_result",
          "data": {
            "text/plain": [
              "array([0.4445874 , 0.4243528 , 0.41530976, 0.41283774, 0.40813935,\n",
              "       0.40495536, 0.40379223, 0.40312892, 0.40300524, 0.40054035,\n",
              "       0.3996757 , 0.39455053, 0.3937092 , 0.39204827, 0.3917687 ,\n",
              "       0.39110366, 0.38725355, 0.38593456, 0.38579038, 0.38183647,\n",
              "       0.38143834, 0.38026038, 0.37938303, 0.37491086, 0.3747061 ,\n",
              "       0.37433997, 0.37285253, 0.37021703, 0.36702037, 0.36551723,\n",
              "       0.36550587, 0.36079073, 0.36063212, 0.35776958, 0.3571221 ,\n",
              "       0.35515693, 0.35088676, 0.3505999 , 0.35041368, 0.3476264 ,\n",
              "       0.3461838 , 0.34575626, 0.3445126 , 0.34343147, 0.34292808,\n",
              "       0.342859  , 0.34196743, 0.34045884, 0.34013277, 0.33981133],\n",
              "      dtype=float32)"
            ]
          },
          "metadata": {},
          "execution_count": 119
        }
      ]
    },
    {
      "cell_type": "code",
      "source": [
        "ratings = np.array([Ratings[_,OUR_ITEM] for _ in users])\n",
        "\n",
        "print(f'The user not rated the item= {Ratings[OUR_USER, OUR_ITEM]:.1f}')\n",
        "print(f'Average rating in user-neighborhood= {ratings.mean():.1f}')"
      ],
      "metadata": {
        "colab": {
          "base_uri": "https://localhost:8080/"
        },
        "id": "HBvirmBnkatR",
        "outputId": "71dfb276-8371-4823-8236-e89915fb8d0b"
      },
      "execution_count": 120,
      "outputs": [
        {
          "output_type": "stream",
          "name": "stdout",
          "text": [
            "The user not rated the item= 0.0\n",
            "Average rating in user-neighborhood= 3.9\n"
          ]
        }
      ]
    },
    {
      "cell_type": "markdown",
      "source": [
        "Item-based Example\n",
        "Find out what a user would score a particular movie that he/she did not score (or watch)\n",
        "Similarity will be based on items\n",
        "Use sim_costeta for similarity (can try other ones)\n",
        "Distance matrix is M-by-M\n",
        "Always use float32 for speed"
      ],
      "metadata": {
        "id": "7r0IVsX4lLau"
      }
    },
    {
      "cell_type": "markdown",
      "source": [],
      "metadata": {
        "id": "xT2zDb3OjdNg"
      }
    },
    {
      "cell_type": "code",
      "source": [
        "# Item-based filtering\n",
        "OUR_USER= 0\n",
        "OUR_ITEM= 0  # pick an item which our user did not rate\n",
        "OUR_ITEM_NEIGHBORHOOD= 50  # number of items similar to our item"
      ],
      "metadata": {
        "id": "jjhge8ytlMhy"
      },
      "execution_count": 121,
      "outputs": []
    },
    {
      "cell_type": "code",
      "source": [
        "# users who rated our item\n",
        "users = np.where(Ratings[:,OUR_ITEM]>0.)[0]"
      ],
      "metadata": {
        "id": "LlJWlqhIlOUs"
      },
      "execution_count": 122,
      "outputs": []
    },
    {
      "cell_type": "code",
      "source": [
        "%%time\n",
        "\n",
        "# generate a distance matrix - item\n",
        "Dist_i = np.zeros((M,M), dtype=np.float32)\n",
        "for i in range(M):\n",
        "    for j in range(M):\n",
        "        Dist_i[i,j] = sim_costeta(Ratings[:,i], Ratings[:,j])"
      ],
      "metadata": {
        "colab": {
          "base_uri": "https://localhost:8080/"
        },
        "id": "8B29f3rhlQhD",
        "outputId": "d8914fd0-9b38-47e8-f5ee-5341bb1b24e7"
      },
      "execution_count": 123,
      "outputs": [
        {
          "output_type": "stream",
          "name": "stdout",
          "text": [
            "CPU times: user 16.5 s, sys: 29.3 ms, total: 16.5 s\n",
            "Wall time: 16.5 s\n"
          ]
        }
      ]
    },
    {
      "cell_type": "code",
      "source": [
        "d = np.abs(Dist_i[OUR_ITEM,:])\n",
        "ix_best = np.argsort(-d)[:OUR_ITEM_NEIGHBORHOOD]\n",
        "items = ix_best"
      ],
      "metadata": {
        "id": "QPMDr91klSdj"
      },
      "execution_count": 124,
      "outputs": []
    },
    {
      "cell_type": "code",
      "source": [
        "ratings = np.array([Ratings[users,_] for _ in items])\n",
        "\n",
        "print(f'The user not rated the item= {Ratings[OUR_USER, OUR_ITEM]:.1f}')\n",
        "print(f'Average rating in item-neighborhood= {ratings.mean():.1f}')"
      ],
      "metadata": {
        "colab": {
          "base_uri": "https://localhost:8080/"
        },
        "id": "w2POkrBElaGk",
        "outputId": "c9dbad55-7a72-41a6-cd37-f04eb0bef138"
      },
      "execution_count": 125,
      "outputs": [
        {
          "output_type": "stream",
          "name": "stdout",
          "text": [
            "The user not rated the item= 0.0\n",
            "Average rating in item-neighborhood= 1.8\n"
          ]
        }
      ]
    },
    {
      "cell_type": "markdown",
      "source": [
        "\n",
        "Cluster the Items\n",
        "Item category can help a user to select a relevant item. In addition, the user selections and scores can guide the recommender system to predict what category a user likes more than the others. Creating item genres or item categories can be accomplished via clustering item features. These features can be also some augmented information provided by experts (or even movie critics). In this example, we can use movie titles (plots, information extracted from Web, or even parsing movie scripts) to create a movie feature vector. Note that in our dataset there are also tags which capture this kind of information.\n",
        "\n",
        "Use the following two resources:\n",
        "\n",
        "gensim GloVe Gensim = \"Generate Similar\" is a topic modeling library to implement Latent Semantic Methods and it is licensed under GNU LGPLv2.1 license\n",
        "GloVe embedding model with feature size M=50 using https://nlp.stanford.edu/projects/glove/\n",
        "gensim library can download GloVe word embeddings to be used as word vectors in text processing. A movie is represented by its title and the average of the word vectors it constitutes (Word2Vec is another method to represent a text phrase).\n",
        "\n",
        "GloVe project is an embedding approach trained by very large corpora and specifically indexed words in a consistent manner in order to improve sharing across problems and domains. The selected embedding is M=50 dimensions, 400K words.\n",
        "\n",
        "The number of genres might be a good starting point as the number of clusters expected.\n",
        "\n",
        "Let's represent each movie by its average word embedding extracted from its title and cluster.\n"
      ],
      "metadata": {
        "id": "6QzFjeEnlkOU"
      }
    },
    {
      "cell_type": "code",
      "source": [
        "import gensim\n",
        "import gensim.downloader\n",
        "\n",
        "print(f'gensim version= {gensim.__version__}')\n",
        "Glove = gensim.downloader.load('glove-wiki-gigaword-50')\n",
        "\n",
        "GLOVE_M = 50"
      ],
      "metadata": {
        "colab": {
          "base_uri": "https://localhost:8080/"
        },
        "id": "qvSHKaG4lnEp",
        "outputId": "89647ffa-85b8-40c8-89d6-b1967bdb8e8d"
      },
      "execution_count": 126,
      "outputs": [
        {
          "output_type": "stream",
          "name": "stdout",
          "text": [
            "gensim version= 4.3.1\n"
          ]
        }
      ]
    },
    {
      "cell_type": "code",
      "source": [
        "# restart movie index due to filtering as in the previous Cells\n",
        "movies = sorted(df_ratings.movieId.unique())\n",
        "MoviesIndex = {mov:i for i, mov in enumerate(movies)}\n",
        "MoviesIndexRev = {MoviesIndex[mov]:mov for mov in MoviesIndex.keys()}\n",
        "\n",
        "M_titles = len(MoviesIndex.keys())\n",
        "print(len(MoviesIndex.keys()), len(MoviesIndexRev.keys()))"
      ],
      "metadata": {
        "colab": {
          "base_uri": "https://localhost:8080/"
        },
        "id": "1r81M8YSlzxi",
        "outputId": "6cf85287-5af4-47e9-aac7-0ae2f31458f4"
      },
      "execution_count": 127,
      "outputs": [
        {
          "output_type": "stream",
          "name": "stdout",
          "text": [
            "26744 26744\n"
          ]
        }
      ]
    },
    {
      "cell_type": "code",
      "source": [
        "M_titles"
      ],
      "metadata": {
        "colab": {
          "base_uri": "https://localhost:8080/"
        },
        "id": "LdFxW8SamLTu",
        "outputId": "6bbe5ecf-af04-4a6a-be45-1178c53982bb"
      },
      "execution_count": 128,
      "outputs": [
        {
          "output_type": "execute_result",
          "data": {
            "text/plain": [
              "26744"
            ]
          },
          "metadata": {},
          "execution_count": 128
        }
      ]
    },
    {
      "cell_type": "code",
      "source": [
        "# populate titles, extract tokens\n",
        "Titles, TitleGenres, TitlesParsed = [None]*M_titles, [None]*M_titles, [None]*M_titles\n",
        "for _, row in df_movies.iterrows():\n",
        "    if row.movieId in MoviesIndex:\n",
        "        Titles[MoviesIndex[row.movieId]] = row.title\n",
        "        TitleGenres[MoviesIndex[row.movieId]] = re.search(r'[\\w\\-]+', row.genres).group(0)  # use only the first one\n",
        "\n",
        "for _, title in enumerate(Titles):\n",
        "    TitlesParsed[_] = re.findall(r'[a-z]+', title.lower())\n",
        "\n",
        "# sanity\n",
        "print(Titles[:5])\n",
        "print(TitlesParsed[:5])\n",
        "print(TitleGenres[:5])"
      ],
      "metadata": {
        "colab": {
          "base_uri": "https://localhost:8080/"
        },
        "id": "yzfr36gtl7fg",
        "outputId": "d03f8f39-853a-4aa4-ade9-13bcfa7ed29c"
      },
      "execution_count": 129,
      "outputs": [
        {
          "output_type": "stream",
          "name": "stdout",
          "text": [
            "['Toy Story (1995)', 'Jumanji (1995)', 'Grumpier Old Men (1995)', 'Waiting to Exhale (1995)', 'Father of the Bride Part II (1995)']\n",
            "[['toy', 'story'], ['jumanji'], ['grumpier', 'old', 'men'], ['waiting', 'to', 'exhale'], ['father', 'of', 'the', 'bride', 'part', 'ii']]\n",
            "['Adventure', 'Adventure', 'Comedy', 'Comedy', 'Comedy']\n"
          ]
        }
      ]
    },
    {
      "cell_type": "code",
      "source": [
        "# take the average word vectors to represent titles in GloVe embeddings\n",
        "X = np.zeros((M_titles, GLOVE_M), dtype=np.float32)\n",
        "for _, title in enumerate(TitlesParsed):\n",
        "    v = []\n",
        "    if len(title) == 0:\n",
        "        # movie title empty after parsing, setting to zero vector\n",
        "        X[_] = np.zeros(GLOVE_M, dtype=np.float32)\n",
        "    else:\n",
        "        for w in title:\n",
        "            v += [Glove[w]] if w in Glove else [np.zeros(GLOVE_M, dtype=np.float32)]\n",
        "        X[_] = np.mean(np.array(v), axis=0)"
      ],
      "metadata": {
        "id": "Fkz2wG0lmiw8"
      },
      "execution_count": 130,
      "outputs": []
    },
    {
      "cell_type": "markdown",
      "source": [],
      "metadata": {
        "id": "B46-P2VXnw9G"
      }
    },
    {
      "cell_type": "code",
      "source": [
        "from sklearn.cluster import KMeans\n",
        "\n",
        "# use number of genres to cluster\n",
        "K = len(Genres.keys())\n",
        "Clusters = KMeans(n_clusters=K, n_init=10).fit_predict(X)"
      ],
      "metadata": {
        "id": "JooxMvh_m6Ku"
      },
      "execution_count": 131,
      "outputs": []
    },
    {
      "cell_type": "code",
      "source": [
        "# Print a few movie titles and their cluster IDs in a genre\n",
        "GENRE = 'Horror'\n",
        "n_results = 20\n",
        "for _, g in enumerate(TitleGenres):\n",
        "    if g == GENRE and n_results > 0:\n",
        "        print(f'{Clusters[_]:2d}  {Titles[_]:s}')\n",
        "        n_results -= 1"
      ],
      "metadata": {
        "colab": {
          "base_uri": "https://localhost:8080/"
        },
        "id": "rQ9DG0rKnEPG",
        "outputId": "56353ea5-50ed-4d79-bc57-45cc5b944893"
      },
      "execution_count": 132,
      "outputs": [
        {
          "output_type": "stream",
          "name": "stdout",
          "text": [
            "13  Lord of Illusions (1995)\n",
            "11  Species (1995)\n",
            "13  Castle Freak (1995)\n",
            " 1  Relative Fear (1994)\n",
            "13  Tales from the Crypt Presents: Demon Knight (1995)\n",
            "14  Village of the Damned (1995)\n",
            " 1  Fear, The (1995)\n",
            "14  In the Mouth of Madness (1995)\n",
            "13  Body Snatchers (1993)\n",
            "13  Puppet Masters, The (1994)\n",
            " 9  301, 302 (301/302) (1995)\n",
            "10  Cemetery Man (Dellamorte Dellamore) (1994)\n",
            "11  Thinner (1996)\n",
            "14  Spirits of the Dead (1968)\n",
            " 5  Eyes Without a Face (Yeux sans visage, Les) (1959)\n",
            "13  Relic, The (1997)\n",
            " 4  Halloween: The Curse of Michael Myers (Halloween 6: The Curse of Michael Myers) (1995)\n",
            "14  Night of the Living Dead (1968)\n",
            "14  Children of the Corn IV: The Gathering (1996)\n",
            "16  Fog, The (1980)\n"
          ]
        }
      ]
    },
    {
      "cell_type": "markdown",
      "source": [
        "Question: How do you assess the performance of this clustering?\n",
        "\n",
        "Ans: The performance of this clustering can be measured in multiple ways\n",
        "1. Vary the Cluster Size and pefform human hudgement and ask humans to rate tne K nearast neighbor for each cluster size\n",
        "2. Silhoutte Score: This is a metric used to calculate the goodness of a clustering algorithm. Its value ranges from -1 to 1, where a high value indicates that the object is well matched to its own cluster and poorly matched to neighboring clusters.\n",
        "3. WCSS (Within-cluster sum of squares) - This is the sum of squared distances of samples to their closest cluster center. A lower inertia value is better, but it tends to decrease as the number of clusters increases. So, it's essential to find a balance.\n",
        "4. Visual Inspection: For a lower-dimensional space (like 2D or 3D), we can visually inspect the clusters using scatter plots. However, given that the embeddings are in 50D space, dimensionality reduction techniques like t-SNE or PCA can be used to visualize the data in 2D or 3D.\n",
        "\n",
        "Question: Do you expect above clustering will work on titles for other genres?\n",
        "  \n",
        "\n",
        "1.   It may work well for few items but not for all. It will work well for genres on which we have good volume of data but may not work well on gneres we=here data is sparse.  we need to try it our to see how well it works. We need to visually inspect and compute few metrics as mentioned above.\n",
        "\n",
        "2.   The current approach only considers the first genre if a movie belongs to multiple genres. This simplification might not always be representative, especially for movies that blend genres.\n",
        "\n",
        "3. For some genres, the titles might be indicative. For instance, horror movies might have words like \"haunting,\" \"ghost,\" \"nightmare,\" etc., which could cluster well. However, for genres like drama or comedy, the titles might be more varied and less indicative of the genre, making clustering less effective.\n",
        "\n",
        "\n",
        "\n",
        "\n"
      ],
      "metadata": {
        "id": "Bpn1mFSznKQM"
      }
    },
    {
      "cell_type": "markdown",
      "source": [
        "Exercises\n",
        "Exercise 1. Reduce the number of items by updating the minimum number of ratings and rerun the analysis.\n",
        "\n",
        "Ans:  Lets change the RATINGS_N_MIN to 40 from 20. I have done that change in the code and reran the notebook.  This will get us ratings matrix ith a subset of movies that have a higher number of ratings, which can potentially improve the clustering results\n",
        "\n",
        " |RATINGS_N_MIN | User Based Rating   |  Item Based Rating | Horror Collection CLuster |\n",
        " |--------------|:--------------------|-------------------- |---------------- |\n",
        " |20            |     3.9             |     1.8             | Accuracy : 19/20\n",
        " |40            |     3.9             |     1.8              |Accuracy : 19/20\n",
        " |>=50.         | Lots of errors in the code\n",
        "\n",
        "\n",
        "Summary: Changing RATINGS_N_MIN to 50 does reduce number of movies in rathings dataset to 486. But it does not change average rating by using User Based fiktering or Item based filterig nor it changes accuracy of gensim algorithm"
      ],
      "metadata": {
        "id": "5y_lVv4knTzd"
      }
    },
    {
      "cell_type": "markdown",
      "source": [
        "Exercise 2. Why the item filtering revealed a much lower rating compared to the user?\n",
        "\n",
        "And:\n",
        "\n",
        "\n",
        "1.   the user-item matrix is sparse. This means that many users have rated only a few items. When I filter out items (movies) based on a minimum number of ratings, I might be removing a significant portion of the data, leading to a loss of information.\n",
        "2.   Filtering items based on the number of ratings can introduce a bias towards popular items. While these items might have many ratings, they might not necessarily have high ratings. This can skew the average rating downwards.\n",
        "3. New movies or items that haven't accumulated enough ratings yet might be filtered out, even if they have the potential to be highly rated in the future.\n",
        "\n",
        "\n",
        "How do you remedy?\n",
        "Ans:\n",
        "\n",
        "\n",
        "1.   Use additional metadata (like movie genres, tags, or summaries) to enhance the recommendation. This can provide more context and improve the quality of recommendations, especially when the number of ratings is limited\n",
        "2.   I have tried Experimenting with different thresholds for the minimum number of ratings. That did not work. Instead of a fixed number, I may have to consider using a dynamic threshold based on the distribution of ratings\n",
        "3. I may consider content-based filtering, where recommendations are based on item attributes rather than user-item interactions.\n",
        "\n",
        "\n"
      ],
      "metadata": {
        "id": "ij8I0qmQnVjJ"
      }
    },
    {
      "cell_type": "markdown",
      "source": [
        "\n",
        "Exercise 3. Implement content based filtering by generating similarities between movies based on their tags."
      ],
      "metadata": {
        "id": "mX2mOVzynaMe"
      }
    },
    {
      "cell_type": "markdown",
      "source": [
        "Content-based filtering recommends items by comparing the content of the items and a user profile, with content being described in terms of metadata of the movie (e.g., a movie's tags or genres). The similarities between items are then calculated based on these descriptors."
      ],
      "metadata": {
        "id": "M3WUpRzE3CQh"
      }
    },
    {
      "cell_type": "code",
      "source": [
        "import pandas as pd\n",
        "from sklearn.feature_extraction.text import TfidfVectorizer\n",
        "from sklearn.metrics.pairwise import linear_kernel"
      ],
      "metadata": {
        "id": "1aGtUnG9nS09"
      },
      "execution_count": 133,
      "outputs": []
    },
    {
      "cell_type": "code",
      "source": [
        "# Merging tags with movies\n",
        "df_tags_merged = df_tag.groupby('movieId')['tag'].apply(lambda x: ' '.join(map(str, x))).reset_index()\n",
        "df_movies_tags = pd.merge(df_movies, df_tags_merged, on='movieId', how='left')\n",
        "df_movies_tags['tag'].fillna('', inplace=True)\n"
      ],
      "metadata": {
        "id": "bivdNG5M3Mv7"
      },
      "execution_count": 135,
      "outputs": []
    },
    {
      "cell_type": "code",
      "source": [
        "#compute tf-idf matrix\n",
        "tfidf_vectorizer = TfidfVectorizer(stop_words='english')\n",
        "tfidf_matrix = tfidf_vectorizer.fit_transform(df_movies_tags['tag'])"
      ],
      "metadata": {
        "id": "lzwxOzjR3gZe"
      },
      "execution_count": 136,
      "outputs": []
    },
    {
      "cell_type": "code",
      "source": [
        "# compute similarity score\n",
        "cosine_sim = linear_kernel(tfidf_matrix, tfidf_matrix)"
      ],
      "metadata": {
        "id": "KapvMXMR3lih"
      },
      "execution_count": 137,
      "outputs": []
    },
    {
      "cell_type": "code",
      "source": [
        "#This function will take a movie title as input and return a list of movies that are most similar to it based on their tags.\n",
        "def get_recommendations(title, cosine_sim=cosine_sim):\n",
        "    idx = df_movies_tags.index[df_movies_tags['title'] == title].tolist()[0]\n",
        "    sim_scores = list(enumerate(cosine_sim[idx]))\n",
        "    sim_scores = sorted(sim_scores, key=lambda x: x[1], reverse=True)\n",
        "    sim_scores = sim_scores[1:11]  # Get scores of the 10 most similar movies\n",
        "    movie_indices = [i[0] for i in sim_scores]\n",
        "    return df_movies_tags['title'].iloc[movie_indices]\n",
        "\n"
      ],
      "metadata": {
        "id": "RGLLy_NZ3rgN"
      },
      "execution_count": 141,
      "outputs": []
    },
    {
      "cell_type": "code",
      "source": [
        "# Let's get simiarity score\n",
        "print(get_recommendations('Toy Story (1995)'))"
      ],
      "metadata": {
        "colab": {
          "base_uri": "https://localhost:8080/"
        },
        "id": "46BCdqqS3vfY",
        "outputId": "d13d4fd0-ed79-4852-b492-7743b0a57e49"
      },
      "execution_count": 142,
      "outputs": [
        {
          "output_type": "stream",
          "name": "stdout",
          "text": [
            "3027             Toy Story 2 (1999)\n",
            "2270           Bug's Life, A (1998)\n",
            "4790          Monsters, Inc. (2001)\n",
            "5121                 Ice Age (2002)\n",
            "6271            Finding Nemo (2003)\n",
            "15401            Toy Story 3 (2010)\n",
            "11614            Ratatouille (2007)\n",
            "8278        Incredibles, The (2004)\n",
            "21168    Monsters University (2013)\n",
            "13767                     Up (2009)\n",
            "Name: title, dtype: object\n"
          ]
        }
      ]
    },
    {
      "cell_type": "markdown",
      "source": [
        "# Assignment 1\n",
        "\n",
        "1.[20 pts] Build a genome vector, score, and then list the top Batman movies using similarity\n",
        "metrics. Note that we will not use any text processing on the movie title but rather similarity\n",
        "vectors. Create a single similarity vector for Batman movies to be compared to other\n",
        "genome vectors. One should use a distance measure between the Batman movies genome\n",
        "vector and the other movies genome vectors. Use any approach as you see fit.\n",
        "2. [20 pts] List top-10 users who love (or scored high) Batman movies using the genome\n",
        "vectors. Using the built pipeline find out the second loved movie for these 10 users.\n",
        "3. [20 pts] Find out the single best genre representing Batman movies. The genre is listed in\n",
        "the movie dataset next to the movie title.\n",
        "4. [20 pts] Utilize the user tags to build item vectors for clustering. Same approach with GloVe\n",
        "word embeddings can be used.\n",
        "5. [20 pts] Find out how much the two clustering approaches in the module and (Q4.) come\n",
        "close to the correct representation of the genres of the movies. The genres can also be\n",
        "represented as the average word vectors based on genre terms. Note that the module uses\n",
        "only the first term in the genre. A 2D visualization using PCA could help how these three\n",
        "representations compare (title word embeddings, tag word embeddings, and genre word\n",
        "embeddings).\n"
      ],
      "metadata": {
        "id": "H7Te-dbE4Gsr"
      }
    },
    {
      "cell_type": "markdown",
      "source": [],
      "metadata": {
        "id": "A_Zk77AL4492"
      }
    },
    {
      "cell_type": "markdown",
      "source": [
        "1. [20 pts] Build a genome vector, score, and then list the top Batman movies using similarity metrics. Note that we will not use any text processing on the movie title but rather similarity vectors. Create a single similarity vector for Batman movies to be compared to other genome vectors. One should use a distance measure between the Batman movies genome vector and the other movies genome vectors. Use any approach as you see fit."
      ],
      "metadata": {
        "id": "d0PGLEf047d9"
      }
    },
    {
      "cell_type": "code",
      "source": [
        "import numpy as np\n",
        "from sklearn.metrics.pairwise import cosine_similarity\n",
        "\n",
        "# Merge genome scores with genome tags\n",
        "df_genome = pd.merge(df_genome_scores, df_genome_tags, on='tagId')\n",
        "\n",
        "# Filter out Batman movies\n",
        "batman_movies = df_movies[df_movies['title'].str.contains('Batman', case=False)]\n",
        "batman_movie_ids = batman_movies['movieId'].tolist()\n",
        "\n",
        "# Create a genome matrix where rows are movies and columns are genome tags\n",
        "genome_matrix = df_genome.pivot(index='movieId', columns='tag', values='relevance')\n",
        "\n",
        "# Filter out Batman movie IDs that are present in the genome_matrix\n",
        "valid_batman_movie_ids = [movie_id for movie_id in batman_movie_ids if movie_id in genome_matrix.index]\n",
        "\n",
        "# Create a single genome vector for Batman movies by averaging the genome scores\n",
        "batman_genome_vector = genome_matrix.loc[valid_batman_movie_ids].mean().values.reshape(1, -1)\n",
        "\n",
        "# Compute the cosine similarity between the Batman genome vector and all other movies\n",
        "similarities = cosine_similarity(batman_genome_vector, genome_matrix)\n",
        "\n",
        "# Rank movies based on their similarity to Batman movies\n",
        "sorted_indices = np.argsort(similarities[0])[::-1]\n",
        "top_movies = df_movies.set_index('movieId').loc[genome_matrix.index[sorted_indices]]\n",
        "\n",
        "# Display the top Batman-like movies\n",
        "print(top_movies['title'].head(10))\n",
        "\n"
      ],
      "metadata": {
        "colab": {
          "base_uri": "https://localhost:8080/"
        },
        "id": "_ei2oHFp4JZn",
        "outputId": "7bc1072c-1160-4daa-9406-ca73f5594a9b"
      },
      "execution_count": 144,
      "outputs": [
        {
          "output_type": "stream",
          "name": "stdout",
          "text": [
            "movieId\n",
            "3213                Batman: Mask of the Phantasm (1993)\n",
            "98124    Batman: The Dark Knight Returns, Part 1 (2012)\n",
            "27311         Batman Beyond: Return of the Joker (2000)\n",
            "592                                       Batman (1989)\n",
            "27155                 Batman/Superman Movie, The (1998)\n",
            "79274                 Batman: Under the Red Hood (2010)\n",
            "90603                           Batman: Year One (2011)\n",
            "99813    Batman: The Dark Knight Returns, Part 2 (2013)\n",
            "33794                              Batman Begins (2005)\n",
            "60979                      Batman: Gotham Knight (2008)\n",
            "Name: title, dtype: object\n"
          ]
        }
      ]
    },
    {
      "cell_type": "markdown",
      "source": [
        "2. [20 pts] List top-10 users who love (or scored high) Batman movies using the genome vectors. Using the built pipeline find out the second loved movie for these 10 users."
      ],
      "metadata": {
        "id": "rBC4lcAx6OMD"
      }
    },
    {
      "cell_type": "code",
      "source": [
        "# 1. Identify the genome vector for Batman movies\n",
        "valid_batman_movie_ids = [movie_id for movie_id in batman_movie_ids if movie_id in genome_matrix.index]\n",
        "batman_genome_vector = genome_matrix.loc[valid_batman_movie_ids].mean().values.reshape(1, -1)\n",
        "\n",
        "# 2. Calculate the average rating for Batman movies for each user\n",
        "batman_ratings = df_ratings[df_ratings['movieId'].isin(valid_batman_movie_ids)]\n",
        "avg_batman_ratings = batman_ratings.groupby('userId')['rating'].mean()\n",
        "\n",
        "# 3. Rank users based on their average rating for Batman movies\n",
        "top_users = avg_batman_ratings.sort_values(ascending=False).head(10).index.tolist()\n",
        "\n",
        "# 4. For the top-10 users, identify their second highest-rated movie\n",
        "second_loved_movies = []\n",
        "for user in top_users:\n",
        "    user_ratings = df_ratings[df_ratings['userId'] == user].sort_values(by='rating', ascending=False)\n",
        "    second_loved_movie_id = user_ratings.iloc[1]['movieId']\n",
        "    second_loved_movie_title = df_movies[df_movies['movieId'] == second_loved_movie_id]['title'].values[0]\n",
        "    second_loved_movies.append(second_loved_movie_title)\n",
        "\n",
        "print(\"Top-10 users who love Batman movies and their second loved movie:\")\n",
        "for i, (user, movie) in enumerate(zip(top_users, second_loved_movies)):\n",
        "    print(f\"{i+1}. User {user}: {movie}\")\n"
      ],
      "metadata": {
        "colab": {
          "base_uri": "https://localhost:8080/"
        },
        "id": "KVSdogD16iY5",
        "outputId": "c57854bd-9d6d-4ffc-c5ce-f2f161e68e1c"
      },
      "execution_count": 146,
      "outputs": [
        {
          "output_type": "stream",
          "name": "stdout",
          "text": [
            "Top-10 users who love Batman movies and their second loved movie:\n",
            "1. User 121887: Little Mermaid, The (1989)\n",
            "2. User 100645: Shaun of the Dead (2004)\n",
            "3. User 121315: One Flew Over the Cuckoo's Nest (1975)\n",
            "4. User 100589: O Brother, Where Art Thou? (2000)\n",
            "5. User 22600: Office Space (1999)\n",
            "6. User 37045: City of Lost Children, The (Cité des enfants perdus, La) (1995)\n",
            "7. User 7619: Tombstone (1993)\n",
            "8. User 16667: Batman: The Dark Knight Returns, Part 1 (2012)\n",
            "9. User 76478: Saving Private Ryan (1998)\n",
            "10. User 121239: Total Recall (1990)\n"
          ]
        }
      ]
    },
    {
      "cell_type": "markdown",
      "source": [
        "3. [20 pts] Find out the single best genre representing Batman movies. The genre is listed in the movie dataset next to the movie title."
      ],
      "metadata": {
        "id": "SvURu-176DqN"
      }
    },
    {
      "cell_type": "code",
      "source": [
        "# Filter out Batman movies\n",
        "batman_movies = df_movies[df_movies['title'].str.contains('Batman', case=False)]\n",
        "\n",
        "# Extract and count genres\n",
        "genre_counts = batman_movies['genres'].str.split('|').explode().value_counts()\n",
        "\n",
        "# Identify the genre with the highest frequency\n",
        "best_genre = genre_counts.idxmax()\n",
        "print(f\"The best genre representing Batman movies is: {best_genre}\")\n"
      ],
      "metadata": {
        "colab": {
          "base_uri": "https://localhost:8080/"
        },
        "id": "GtssRLHh6EFQ",
        "outputId": "4a090401-1c9d-43ad-c603-59ad9cbe8e23"
      },
      "execution_count": 145,
      "outputs": [
        {
          "output_type": "stream",
          "name": "stdout",
          "text": [
            "The best genre representing Batman movies is: Action\n"
          ]
        }
      ]
    },
    {
      "cell_type": "markdown",
      "source": [
        "4. [20 pts] Utilize the user tags to build item vectors for clustering. Same approach with GloVe word embeddings can be used."
      ],
      "metadata": {
        "id": "rpRJUd7b6zvH"
      }
    },
    {
      "cell_type": "code",
      "source": [
        "import gensim.downloader\n",
        "from sklearn.cluster import KMeans\n",
        "\n",
        "# 1. Merge the tags with movies\n",
        "df_tags_merged = df_tag.groupby('movieId')['tag'].apply(lambda x: ' '.join(map(str, x))).reset_index()\n",
        "df_movies_tags = pd.merge(df_movies, df_tags_merged, on='movieId', how='left')\n",
        "df_movies_tags['tag'].fillna('', inplace=True)\n",
        "\n",
        "# 2. Tokenize and preprocess the tags\n",
        "df_movies_tags['tag_tokens'] = df_movies_tags['tag'].str.lower().str.split()\n",
        "\n",
        "# 3. Embed the tags using GloVe\n",
        "Glove = gensim.downloader.load('glove-wiki-gigaword-50')\n",
        "GLOVE_M = 50\n",
        "\n",
        "def embed_tags(tags):\n",
        "    vectors = [Glove[tag] for tag in tags if tag in Glove]\n",
        "    if vectors:\n",
        "        return np.mean(vectors, axis=0)\n",
        "    else:\n",
        "        return np.zeros(GLOVE_M)\n",
        "\n",
        "df_movies_tags['tag_vector'] = df_movies_tags['tag_tokens'].apply(embed_tags)\n",
        "\n",
        "# Convert the tag vectors into a matrix format for clustering\n",
        "tag_matrix = np.vstack(df_movies_tags['tag_vector'].values)\n",
        "\n",
        "# 4. Cluster the movies based on the embedded tags\n",
        "K = len(df_movies['genres'].str.split('|').explode().unique())\n",
        "Clusters = KMeans(n_clusters=K, n_init=10).fit_predict(tag_matrix)\n",
        "\n",
        "df_movies_tags['cluster'] = Clusters\n"
      ],
      "metadata": {
        "id": "C-VSDyx86y24"
      },
      "execution_count": 147,
      "outputs": []
    },
    {
      "cell_type": "markdown",
      "source": [
        "[20 pts] Find out how much the two clustering approaches in the module and (Q4.) come close to the correct representation of the genres of the movies. The genres can also be represented as the average word vectors based on genre terms. Note that the module uses only the first term in the genre. A 2D visualization using PCA could help how these three representations compare (title word embeddings, tag word embeddings, and genre word embeddings)."
      ],
      "metadata": {
        "id": "eSvLEJZP7LeR"
      }
    },
    {
      "cell_type": "code",
      "source": [
        "import gensim.downloader\n",
        "from sklearn.decomposition import PCA\n",
        "import matplotlib.pyplot as plt\n",
        "\n",
        "# Load GloVe embeddings\n",
        "Glove = gensim.downloader.load('glove-wiki-gigaword-50')\n",
        "\n",
        "# 1. Embed the genres\n",
        "def embed_genres(genres):\n",
        "    genre_tokens = genres.split('|')\n",
        "    vectors = [Glove[genre.lower()] for genre in genre_tokens if genre.lower() in Glove]\n",
        "    if vectors:\n",
        "        return np.mean(vectors, axis=0)\n",
        "    else:\n",
        "        return np.zeros(GLOVE_M)\n",
        "\n",
        "df_movies['genre_vector'] = df_movies['genres'].apply(embed_genres)\n",
        "\n",
        "# Convert the genre vectors into a matrix format for PCA\n",
        "genre_matrix = np.vstack(df_movies['genre_vector'].values)\n",
        "\n",
        "# 2. Perform PCA\n",
        "pca = PCA(n_components=2)\n",
        "\n",
        "title_pca = pca.fit_transform(tag_matrix)\n",
        "tag_pca = pca.fit_transform(np.vstack(df_movies_tags['tag_vector'].values))\n",
        "genre_pca = pca.fit_transform(genre_matrix)\n",
        "\n",
        "# 3. Visualize the embeddings\n",
        "plt.figure(figsize=(18, 6))\n",
        "\n",
        "plt.subplot(1, 3, 1)\n",
        "plt.scatter(title_pca[:, 0], title_pca[:, 1], alpha=0.5)\n",
        "plt.title('Title Word Embeddings')\n",
        "\n",
        "plt.subplot(1, 3, 2)\n",
        "plt.scatter(tag_pca[:, 0], tag_pca[:, 1], alpha=0.5)\n",
        "plt.title('Tag Word Embeddings')\n",
        "\n",
        "plt.subplot(1, 3, 3)\n",
        "plt.scatter(genre_pca[:, 0], genre_pca[:, 1], alpha=0.5)\n",
        "plt.title('Genre Word Embeddings')\n",
        "\n",
        "plt.show()\n"
      ],
      "metadata": {
        "colab": {
          "base_uri": "https://localhost:8080/",
          "height": 397
        },
        "id": "ns8Rc9fa7Xy6",
        "outputId": "c35e309e-92fe-42d5-9462-ce7b6bcc7294"
      },
      "execution_count": 148,
      "outputs": [
        {
          "output_type": "display_data",
          "data": {
            "text/plain": [
              "<Figure size 1296x432 with 3 Axes>"
            ],
            "image/png": "[encoded data removed]"
          },
          "metadata": {}
        }
      ]
    },
    {
      "cell_type": "markdown",
      "source": [
        "Analysis:\n",
        "\n",
        "\n",
        "*   Tag word embeddings  and Title embeddings  are denser as compared to Genre word embeddings\n",
        "*   The number of vectors in Tag and are title are much more as compared to Genre. This means we'll be able to get more accurate nearest neighbor movie when we use Tag and title as compared to genres.\n",
        "* In the code we just used first genre of each movie. If we can average the mebddings of all genres in the movie, we might get better more accurate latent genre representations in form of word embeddings.\n",
        "\n"
      ],
      "metadata": {
        "id": "L4p_5OAH7jJ0"
      }
    },
    {
      "cell_type": "code",
      "source": [],
      "metadata": {
        "id": "_p3Wgkwb9TOT"
      },
      "execution_count": null,
      "outputs": []
    }
  ]
}